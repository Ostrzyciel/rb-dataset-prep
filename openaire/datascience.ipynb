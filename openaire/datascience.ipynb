{
 "cells": [
  {
   "cell_type": "code",
   "id": "initial_id",
   "metadata": {
    "collapsed": true,
    "ExecuteTime": {
     "end_time": "2024-07-11T18:31:31.883350Z",
     "start_time": "2024-07-11T18:31:31.793876Z"
    }
   },
   "source": [
    "import rdflib\n",
    "from pathlib import Path\n",
    "import re\n",
    "import os\n",
    "import gzip\n",
    "\n",
    "import polars as pl"
   ],
   "outputs": [],
   "execution_count": 1
  },
  {
   "metadata": {
    "ExecuteTime": {
     "end_time": "2024-07-11T19:07:28.106657Z",
     "start_time": "2024-07-11T19:07:27.724121Z"
    }
   },
   "cell_type": "code",
   "source": "df = pl.read_parquet('../data/stats/openaire-lod/openaire-lod.parquet')",
   "id": "256792f627c2e984",
   "outputs": [],
   "execution_count": 59
  },
  {
   "metadata": {
    "ExecuteTime": {
     "end_time": "2024-07-11T18:34:01.034268Z",
     "start_time": "2024-07-11T18:34:01.031787Z"
    }
   },
   "cell_type": "code",
   "source": "df",
   "id": "28c18c28c8d4aad9",
   "outputs": [
    {
     "data": {
      "text/plain": [
       "shape: (29_668_771, 6)\n",
       "┌──────────┬───────┬──────────────────────┬──────────────────────┬──────────┬────────────┐\n",
       "│ count    ┆ valid ┆ acceptance           ┆ collection           ┆ line_len ┆ graph_size │\n",
       "│ ---      ┆ ---   ┆ ---                  ┆ ---                  ┆ ---      ┆ ---        │\n",
       "│ i64      ┆ bool  ┆ str                  ┆ str                  ┆ i64      ┆ i64        │\n",
       "╞══════════╪═══════╪══════════════════════╪══════════════════════╪══════════╪════════════╡\n",
       "│ 1        ┆ true  ┆ 2003-08-07T18:16:49Z ┆ 2019-05-27T20:23:05Z ┆ 3091     ┆ 35         │\n",
       "│ 2        ┆ true  ┆ 2018-01-22           ┆ 2019-02-18T18:14:19Z ┆ 2584     ┆ 34         │\n",
       "│ 3        ┆ true  ┆ 2006-05-25T05:52:53Z ┆ 2019-11-20T21:08:55Z ┆ 3509     ┆ 41         │\n",
       "│ 4        ┆ true  ┆ 2007-09-19T13:52:42Z ┆ 2019-07-29T09:23:07Z ┆ 1354     ┆ 18         │\n",
       "│ 5        ┆ true  ┆ 2005-11-02T13:05:16Z ┆ 2019-11-19T11:17:53Z ┆ 2668     ┆ 28         │\n",
       "│ …        ┆ …     ┆ …                    ┆ …                    ┆ …        ┆ …          │\n",
       "│ 29668767 ┆ true  ┆ 1995-09-28           ┆ 2020-05-19T18:40:28Z ┆ 2000     ┆ 24         │\n",
       "│ 29668768 ┆ true  ┆ 2006-10-27T09:09:27Z ┆ 2020-06-27T02:10:31Z ┆ 3537     ┆ 31         │\n",
       "│ 29668769 ┆ true  ┆ 2009-03-30T16:33:42Z ┆ 2019-11-22T12:12:20Z ┆ 3700     ┆ 40         │\n",
       "│ 29668770 ┆ true  ┆ 2017-06-07T17:35:40Z ┆ 2019-02-18T02:47:10Z ┆ 1935     ┆ 26         │\n",
       "│ 29668771 ┆ true  ┆ 2012-01-01           ┆ null                 ┆ 2282     ┆ 16         │\n",
       "└──────────┴───────┴──────────────────────┴──────────────────────┴──────────┴────────────┘"
      ],
      "text/html": [
       "<div><style>\n",
       ".dataframe > thead > tr,\n",
       ".dataframe > tbody > tr {\n",
       "  text-align: right;\n",
       "  white-space: pre-wrap;\n",
       "}\n",
       "</style>\n",
       "<small>shape: (29_668_771, 6)</small><table border=\"1\" class=\"dataframe\"><thead><tr><th>count</th><th>valid</th><th>acceptance</th><th>collection</th><th>line_len</th><th>graph_size</th></tr><tr><td>i64</td><td>bool</td><td>str</td><td>str</td><td>i64</td><td>i64</td></tr></thead><tbody><tr><td>1</td><td>true</td><td>&quot;2003-08-07T18:16:49Z&quot;</td><td>&quot;2019-05-27T20:23:05Z&quot;</td><td>3091</td><td>35</td></tr><tr><td>2</td><td>true</td><td>&quot;2018-01-22&quot;</td><td>&quot;2019-02-18T18:14:19Z&quot;</td><td>2584</td><td>34</td></tr><tr><td>3</td><td>true</td><td>&quot;2006-05-25T05:52:53Z&quot;</td><td>&quot;2019-11-20T21:08:55Z&quot;</td><td>3509</td><td>41</td></tr><tr><td>4</td><td>true</td><td>&quot;2007-09-19T13:52:42Z&quot;</td><td>&quot;2019-07-29T09:23:07Z&quot;</td><td>1354</td><td>18</td></tr><tr><td>5</td><td>true</td><td>&quot;2005-11-02T13:05:16Z&quot;</td><td>&quot;2019-11-19T11:17:53Z&quot;</td><td>2668</td><td>28</td></tr><tr><td>&hellip;</td><td>&hellip;</td><td>&hellip;</td><td>&hellip;</td><td>&hellip;</td><td>&hellip;</td></tr><tr><td>29668767</td><td>true</td><td>&quot;1995-09-28&quot;</td><td>&quot;2020-05-19T18:40:28Z&quot;</td><td>2000</td><td>24</td></tr><tr><td>29668768</td><td>true</td><td>&quot;2006-10-27T09:09:27Z&quot;</td><td>&quot;2020-06-27T02:10:31Z&quot;</td><td>3537</td><td>31</td></tr><tr><td>29668769</td><td>true</td><td>&quot;2009-03-30T16:33:42Z&quot;</td><td>&quot;2019-11-22T12:12:20Z&quot;</td><td>3700</td><td>40</td></tr><tr><td>29668770</td><td>true</td><td>&quot;2017-06-07T17:35:40Z&quot;</td><td>&quot;2019-02-18T02:47:10Z&quot;</td><td>1935</td><td>26</td></tr><tr><td>29668771</td><td>true</td><td>&quot;2012-01-01&quot;</td><td>null</td><td>2282</td><td>16</td></tr></tbody></table></div>"
      ]
     },
     "execution_count": 4,
     "metadata": {},
     "output_type": "execute_result"
    }
   ],
   "execution_count": 4
  },
  {
   "metadata": {
    "ExecuteTime": {
     "end_time": "2024-07-11T19:07:29.739241Z",
     "start_time": "2024-07-11T19:07:29.436851Z"
    }
   },
   "cell_type": "code",
   "source": [
    "df = df.with_columns(\n",
    "    pl.col('line_len').shift(1, fill_value=0).cum_sum().alias('offset')\n",
    ")"
   ],
   "id": "a8a660d26812e744",
   "outputs": [],
   "execution_count": 60
  },
  {
   "metadata": {
    "ExecuteTime": {
     "end_time": "2024-07-11T18:36:17.990172Z",
     "start_time": "2024-07-11T18:36:17.987274Z"
    }
   },
   "cell_type": "code",
   "source": "df.select(pl.col('valid')).filter(pl.col('valid') == False).count()",
   "id": "72f9379ff4ac81cc",
   "outputs": [
    {
     "data": {
      "text/plain": [
       "shape: (1, 1)\n",
       "┌───────┐\n",
       "│ valid │\n",
       "│ ---   │\n",
       "│ u32   │\n",
       "╞═══════╡\n",
       "│ 9     │\n",
       "└───────┘"
      ],
      "text/html": [
       "<div><style>\n",
       ".dataframe > thead > tr,\n",
       ".dataframe > tbody > tr {\n",
       "  text-align: right;\n",
       "  white-space: pre-wrap;\n",
       "}\n",
       "</style>\n",
       "<small>shape: (1, 1)</small><table border=\"1\" class=\"dataframe\"><thead><tr><th>valid</th></tr><tr><td>u32</td></tr></thead><tbody><tr><td>9</td></tr></tbody></table></div>"
      ]
     },
     "execution_count": 9,
     "metadata": {},
     "output_type": "execute_result"
    }
   ],
   "execution_count": 9
  },
  {
   "metadata": {
    "ExecuteTime": {
     "end_time": "2024-07-11T18:36:29.518384Z",
     "start_time": "2024-07-11T18:36:29.516281Z"
    }
   },
   "cell_type": "code",
   "source": "df.null_count()",
   "id": "38f9f418dbaad217",
   "outputs": [
    {
     "data": {
      "text/plain": [
       "shape: (1, 6)\n",
       "┌───────┬───────┬────────────┬────────────┬──────────┬────────────┐\n",
       "│ count ┆ valid ┆ acceptance ┆ collection ┆ line_len ┆ graph_size │\n",
       "│ ---   ┆ ---   ┆ ---        ┆ ---        ┆ ---      ┆ ---        │\n",
       "│ u32   ┆ u32   ┆ u32        ┆ u32        ┆ u32      ┆ u32        │\n",
       "╞═══════╪═══════╪════════════╪════════════╪══════════╪════════════╡\n",
       "│ 0     ┆ 0     ┆ 45025      ┆ 1187439    ┆ 0        ┆ 0          │\n",
       "└───────┴───────┴────────────┴────────────┴──────────┴────────────┘"
      ],
      "text/html": [
       "<div><style>\n",
       ".dataframe > thead > tr,\n",
       ".dataframe > tbody > tr {\n",
       "  text-align: right;\n",
       "  white-space: pre-wrap;\n",
       "}\n",
       "</style>\n",
       "<small>shape: (1, 6)</small><table border=\"1\" class=\"dataframe\"><thead><tr><th>count</th><th>valid</th><th>acceptance</th><th>collection</th><th>line_len</th><th>graph_size</th></tr><tr><td>u32</td><td>u32</td><td>u32</td><td>u32</td><td>u32</td><td>u32</td></tr></thead><tbody><tr><td>0</td><td>0</td><td>45025</td><td>1187439</td><td>0</td><td>0</td></tr></tbody></table></div>"
      ]
     },
     "execution_count": 10,
     "metadata": {},
     "output_type": "execute_result"
    }
   ],
   "execution_count": 10
  },
  {
   "metadata": {
    "ExecuteTime": {
     "end_time": "2024-07-11T18:37:13.275342Z",
     "start_time": "2024-07-11T18:37:13.093362Z"
    }
   },
   "cell_type": "code",
   "source": "df.max()",
   "id": "6268bed70667be77",
   "outputs": [
    {
     "data": {
      "text/plain": [
       "shape: (1, 6)\n",
       "┌──────────┬───────┬────────────────────────────┬──────────────────────────┬──────────┬────────────┐\n",
       "│ count    ┆ valid ┆ acceptance                 ┆ collection               ┆ line_len ┆ graph_size │\n",
       "│ ---      ┆ ---   ┆ ---                        ┆ ---                      ┆ ---      ┆ ---        │\n",
       "│ i64      ┆ bool  ┆ str                        ┆ str                      ┆ i64      ┆ i64        │\n",
       "╞══════════╪═══════╪════════════════════════════╪══════════════════════════╪══════════╪════════════╡\n",
       "│ 29668771 ┆ true  ┆ Ă\u0000\u0000\u0000\u0000\u0000\u0000頓\u0000煥獣愠獵扨敡瀀\u0000ｿ ┆ 2020-12-14T16:39:06.786Z ┆ 3387049  ┆ 8987       │\n",
       "│          ┆       ┆ ｿｿｿ\u0000\u0000\u0000\u0000\u0000\u0000\u0000\u0000\u0000…              ┆                          ┆          ┆            │\n",
       "└──────────┴───────┴────────────────────────────┴──────────────────────────┴──────────┴────────────┘"
      ],
      "text/html": [
       "<div><style>\n",
       ".dataframe > thead > tr,\n",
       ".dataframe > tbody > tr {\n",
       "  text-align: right;\n",
       "  white-space: pre-wrap;\n",
       "}\n",
       "</style>\n",
       "<small>shape: (1, 6)</small><table border=\"1\" class=\"dataframe\"><thead><tr><th>count</th><th>valid</th><th>acceptance</th><th>collection</th><th>line_len</th><th>graph_size</th></tr><tr><td>i64</td><td>bool</td><td>str</td><td>str</td><td>i64</td><td>i64</td></tr></thead><tbody><tr><td>29668771</td><td>true</td><td>&quot;Ă\u0000\u0000\u0000\u0000\u0000\u0000頓\u0000煥獣愠獵扨敡瀀\u0000ｿｿｿｿ\u0000\u0000\u0000\u0000\u0000\u0000\u0000\u0000\u0000…</td><td>&quot;2020-12-14T16:39:06.786Z&quot;</td><td>3387049</td><td>8987</td></tr></tbody></table></div>"
      ]
     },
     "execution_count": 11,
     "metadata": {},
     "output_type": "execute_result"
    }
   ],
   "execution_count": 11
  },
  {
   "metadata": {
    "ExecuteTime": {
     "end_time": "2024-07-11T18:37:27.364219Z",
     "start_time": "2024-07-11T18:37:27.192323Z"
    }
   },
   "cell_type": "code",
   "source": "df.min()",
   "id": "4648bca57843dff1",
   "outputs": [
    {
     "data": {
      "text/plain": [
       "shape: (1, 6)\n",
       "┌───────┬───────┬───────────────┬──────────────────────────┬──────────┬────────────┐\n",
       "│ count ┆ valid ┆ acceptance    ┆ collection               ┆ line_len ┆ graph_size │\n",
       "│ ---   ┆ ---   ┆ ---           ┆ ---                      ┆ ---      ┆ ---        │\n",
       "│ i64   ┆ bool  ┆ str           ┆ str                      ┆ i64      ┆ i64        │\n",
       "╞═══════╪═══════╪═══════════════╪══════════════════════════╪══════════╪════════════╡\n",
       "│ 1     ┆ false ┆ \u0004q\b a\bu ¹\u0005i\u000F ┆ 2017-01-31T15:48:12.213Z ┆ 457      ┆ 0          │\n",
       "└───────┴───────┴───────────────┴──────────────────────────┴──────────┴────────────┘"
      ],
      "text/html": [
       "<div><style>\n",
       ".dataframe > thead > tr,\n",
       ".dataframe > tbody > tr {\n",
       "  text-align: right;\n",
       "  white-space: pre-wrap;\n",
       "}\n",
       "</style>\n",
       "<small>shape: (1, 6)</small><table border=\"1\" class=\"dataframe\"><thead><tr><th>count</th><th>valid</th><th>acceptance</th><th>collection</th><th>line_len</th><th>graph_size</th></tr><tr><td>i64</td><td>bool</td><td>str</td><td>str</td><td>i64</td><td>i64</td></tr></thead><tbody><tr><td>1</td><td>false</td><td>&quot;\u0004q\b a\bu ¹\u0005i\u000F&quot;</td><td>&quot;2017-01-31T15:48:12.213Z&quot;</td><td>457</td><td>0</td></tr></tbody></table></div>"
      ]
     },
     "execution_count": 12,
     "metadata": {},
     "output_type": "execute_result"
    }
   ],
   "execution_count": 12
  },
  {
   "metadata": {
    "ExecuteTime": {
     "end_time": "2024-07-11T19:07:50.708745Z",
     "start_time": "2024-07-11T19:07:32.284899Z"
    }
   },
   "cell_type": "code",
   "source": [
    "df_times = df.with_columns(\n",
    "    pl.col('acceptance').str.replace('Z', '').str.to_datetime(strict=False).alias('acceptance_dt'),\n",
    "    pl.col('collection').str.to_datetime(strict=False).alias('collection_dt'),\n",
    ")\n",
    "df_times"
   ],
   "id": "d33312990b21e6e9",
   "outputs": [
    {
     "data": {
      "text/plain": [
       "shape: (29_668_771, 9)\n",
       "┌──────────┬───────┬────────────┬────────────┬───┬────────────┬────────────┬───────────┬───────────┐\n",
       "│ count    ┆ valid ┆ acceptance ┆ collection ┆ … ┆ graph_size ┆ offset     ┆ acceptanc ┆ collectio │\n",
       "│ ---      ┆ ---   ┆ ---        ┆ ---        ┆   ┆ ---        ┆ ---        ┆ e_dt      ┆ n_dt      │\n",
       "│ i64      ┆ bool  ┆ str        ┆ str        ┆   ┆ i64        ┆ i64        ┆ ---       ┆ ---       │\n",
       "│          ┆       ┆            ┆            ┆   ┆            ┆            ┆ datetime[ ┆ datetime[ │\n",
       "│          ┆       ┆            ┆            ┆   ┆            ┆            ┆ μs]       ┆ μs, UTC]  │\n",
       "╞══════════╪═══════╪════════════╪════════════╪═══╪════════════╪════════════╪═══════════╪═══════════╡\n",
       "│ 1        ┆ true  ┆ 2003-08-07 ┆ 2019-05-27 ┆ … ┆ 35         ┆ 0          ┆ 2003-08-0 ┆ 2019-05-2 │\n",
       "│          ┆       ┆ T18:16:49Z ┆ T20:23:05Z ┆   ┆            ┆            ┆ 7         ┆ 7         │\n",
       "│          ┆       ┆            ┆            ┆   ┆            ┆            ┆ 18:16:49  ┆ 20:23:05  │\n",
       "│          ┆       ┆            ┆            ┆   ┆            ┆            ┆           ┆ UTC       │\n",
       "│ 2        ┆ true  ┆ 2018-01-22 ┆ 2019-02-18 ┆ … ┆ 34         ┆ 3092       ┆ 2018-01-2 ┆ 2019-02-1 │\n",
       "│          ┆       ┆            ┆ T18:14:19Z ┆   ┆            ┆            ┆ 2         ┆ 8         │\n",
       "│          ┆       ┆            ┆            ┆   ┆            ┆            ┆ 00:00:00  ┆ 18:14:19  │\n",
       "│          ┆       ┆            ┆            ┆   ┆            ┆            ┆           ┆ UTC       │\n",
       "│ 3        ┆ true  ┆ 2006-05-25 ┆ 2019-11-20 ┆ … ┆ 41         ┆ 5677       ┆ 2006-05-2 ┆ 2019-11-2 │\n",
       "│          ┆       ┆ T05:52:53Z ┆ T21:08:55Z ┆   ┆            ┆            ┆ 5         ┆ 0         │\n",
       "│          ┆       ┆            ┆            ┆   ┆            ┆            ┆ 05:52:53  ┆ 21:08:55  │\n",
       "│          ┆       ┆            ┆            ┆   ┆            ┆            ┆           ┆ UTC       │\n",
       "│ 4        ┆ true  ┆ 2007-09-19 ┆ 2019-07-29 ┆ … ┆ 18         ┆ 9187       ┆ 2007-09-1 ┆ 2019-07-2 │\n",
       "│          ┆       ┆ T13:52:42Z ┆ T09:23:07Z ┆   ┆            ┆            ┆ 9         ┆ 9         │\n",
       "│          ┆       ┆            ┆            ┆   ┆            ┆            ┆ 13:52:42  ┆ 09:23:07  │\n",
       "│          ┆       ┆            ┆            ┆   ┆            ┆            ┆           ┆ UTC       │\n",
       "│ 5        ┆ true  ┆ 2005-11-02 ┆ 2019-11-19 ┆ … ┆ 28         ┆ 10542      ┆ 2005-11-0 ┆ 2019-11-1 │\n",
       "│          ┆       ┆ T13:05:16Z ┆ T11:17:53Z ┆   ┆            ┆            ┆ 2         ┆ 9         │\n",
       "│          ┆       ┆            ┆            ┆   ┆            ┆            ┆ 13:05:16  ┆ 11:17:53  │\n",
       "│          ┆       ┆            ┆            ┆   ┆            ┆            ┆           ┆ UTC       │\n",
       "│ …        ┆ …     ┆ …          ┆ …          ┆ … ┆ …          ┆ …          ┆ …         ┆ …         │\n",
       "│ 29668767 ┆ true  ┆ 1995-09-28 ┆ 2020-05-19 ┆ … ┆ 24         ┆ 9223184792 ┆ 1995-09-2 ┆ 2020-05-1 │\n",
       "│          ┆       ┆            ┆ T18:40:28Z ┆   ┆            ┆ 2          ┆ 8         ┆ 9         │\n",
       "│          ┆       ┆            ┆            ┆   ┆            ┆            ┆ 00:00:00  ┆ 18:40:28  │\n",
       "│          ┆       ┆            ┆            ┆   ┆            ┆            ┆           ┆ UTC       │\n",
       "│ 29668768 ┆ true  ┆ 2006-10-27 ┆ 2020-06-27 ┆ … ┆ 31         ┆ 9223184992 ┆ 2006-10-2 ┆ 2020-06-2 │\n",
       "│          ┆       ┆ T09:09:27Z ┆ T02:10:31Z ┆   ┆            ┆ 3          ┆ 7         ┆ 7         │\n",
       "│          ┆       ┆            ┆            ┆   ┆            ┆            ┆ 09:09:27  ┆ 02:10:31  │\n",
       "│          ┆       ┆            ┆            ┆   ┆            ┆            ┆           ┆ UTC       │\n",
       "│ 29668769 ┆ true  ┆ 2009-03-30 ┆ 2019-11-22 ┆ … ┆ 40         ┆ 9223185346 ┆ 2009-03-3 ┆ 2019-11-2 │\n",
       "│          ┆       ┆ T16:33:42Z ┆ T12:12:20Z ┆   ┆            ┆ 1          ┆ 0         ┆ 2         │\n",
       "│          ┆       ┆            ┆            ┆   ┆            ┆            ┆ 16:33:42  ┆ 12:12:20  │\n",
       "│          ┆       ┆            ┆            ┆   ┆            ┆            ┆           ┆ UTC       │\n",
       "│ 29668770 ┆ true  ┆ 2017-06-07 ┆ 2019-02-18 ┆ … ┆ 26         ┆ 9223185716 ┆ 2017-06-0 ┆ 2019-02-1 │\n",
       "│          ┆       ┆ T17:35:40Z ┆ T02:47:10Z ┆   ┆            ┆ 2          ┆ 7         ┆ 8         │\n",
       "│          ┆       ┆            ┆            ┆   ┆            ┆            ┆ 17:35:40  ┆ 02:47:10  │\n",
       "│          ┆       ┆            ┆            ┆   ┆            ┆            ┆           ┆ UTC       │\n",
       "│ 29668771 ┆ true  ┆ 2012-01-01 ┆ null       ┆ … ┆ 16         ┆ 9223185909 ┆ 2012-01-0 ┆ null      │\n",
       "│          ┆       ┆            ┆            ┆   ┆            ┆ 8          ┆ 1         ┆           │\n",
       "│          ┆       ┆            ┆            ┆   ┆            ┆            ┆ 00:00:00  ┆           │\n",
       "└──────────┴───────┴────────────┴────────────┴───┴────────────┴────────────┴───────────┴───────────┘"
      ],
      "text/html": [
       "<div><style>\n",
       ".dataframe > thead > tr,\n",
       ".dataframe > tbody > tr {\n",
       "  text-align: right;\n",
       "  white-space: pre-wrap;\n",
       "}\n",
       "</style>\n",
       "<small>shape: (29_668_771, 9)</small><table border=\"1\" class=\"dataframe\"><thead><tr><th>count</th><th>valid</th><th>acceptance</th><th>collection</th><th>line_len</th><th>graph_size</th><th>offset</th><th>acceptance_dt</th><th>collection_dt</th></tr><tr><td>i64</td><td>bool</td><td>str</td><td>str</td><td>i64</td><td>i64</td><td>i64</td><td>datetime[μs]</td><td>datetime[μs, UTC]</td></tr></thead><tbody><tr><td>1</td><td>true</td><td>&quot;2003-08-07T18:16:49Z&quot;</td><td>&quot;2019-05-27T20:23:05Z&quot;</td><td>3091</td><td>35</td><td>0</td><td>2003-08-07 18:16:49</td><td>2019-05-27 20:23:05 UTC</td></tr><tr><td>2</td><td>true</td><td>&quot;2018-01-22&quot;</td><td>&quot;2019-02-18T18:14:19Z&quot;</td><td>2584</td><td>34</td><td>3092</td><td>2018-01-22 00:00:00</td><td>2019-02-18 18:14:19 UTC</td></tr><tr><td>3</td><td>true</td><td>&quot;2006-05-25T05:52:53Z&quot;</td><td>&quot;2019-11-20T21:08:55Z&quot;</td><td>3509</td><td>41</td><td>5677</td><td>2006-05-25 05:52:53</td><td>2019-11-20 21:08:55 UTC</td></tr><tr><td>4</td><td>true</td><td>&quot;2007-09-19T13:52:42Z&quot;</td><td>&quot;2019-07-29T09:23:07Z&quot;</td><td>1354</td><td>18</td><td>9187</td><td>2007-09-19 13:52:42</td><td>2019-07-29 09:23:07 UTC</td></tr><tr><td>5</td><td>true</td><td>&quot;2005-11-02T13:05:16Z&quot;</td><td>&quot;2019-11-19T11:17:53Z&quot;</td><td>2668</td><td>28</td><td>10542</td><td>2005-11-02 13:05:16</td><td>2019-11-19 11:17:53 UTC</td></tr><tr><td>&hellip;</td><td>&hellip;</td><td>&hellip;</td><td>&hellip;</td><td>&hellip;</td><td>&hellip;</td><td>&hellip;</td><td>&hellip;</td><td>&hellip;</td></tr><tr><td>29668767</td><td>true</td><td>&quot;1995-09-28&quot;</td><td>&quot;2020-05-19T18:40:28Z&quot;</td><td>2000</td><td>24</td><td>92231847922</td><td>1995-09-28 00:00:00</td><td>2020-05-19 18:40:28 UTC</td></tr><tr><td>29668768</td><td>true</td><td>&quot;2006-10-27T09:09:27Z&quot;</td><td>&quot;2020-06-27T02:10:31Z&quot;</td><td>3537</td><td>31</td><td>92231849923</td><td>2006-10-27 09:09:27</td><td>2020-06-27 02:10:31 UTC</td></tr><tr><td>29668769</td><td>true</td><td>&quot;2009-03-30T16:33:42Z&quot;</td><td>&quot;2019-11-22T12:12:20Z&quot;</td><td>3700</td><td>40</td><td>92231853461</td><td>2009-03-30 16:33:42</td><td>2019-11-22 12:12:20 UTC</td></tr><tr><td>29668770</td><td>true</td><td>&quot;2017-06-07T17:35:40Z&quot;</td><td>&quot;2019-02-18T02:47:10Z&quot;</td><td>1935</td><td>26</td><td>92231857162</td><td>2017-06-07 17:35:40</td><td>2019-02-18 02:47:10 UTC</td></tr><tr><td>29668771</td><td>true</td><td>&quot;2012-01-01&quot;</td><td>null</td><td>2282</td><td>16</td><td>92231859098</td><td>2012-01-01 00:00:00</td><td>null</td></tr></tbody></table></div>"
      ]
     },
     "execution_count": 61,
     "metadata": {},
     "output_type": "execute_result"
    }
   ],
   "execution_count": 61
  },
  {
   "metadata": {
    "ExecuteTime": {
     "end_time": "2024-07-11T19:07:50.711310Z",
     "start_time": "2024-07-11T19:07:50.709355Z"
    }
   },
   "cell_type": "code",
   "source": "df_times.null_count()",
   "id": "67ec476b377f40e5",
   "outputs": [
    {
     "data": {
      "text/plain": [
       "shape: (1, 9)\n",
       "┌───────┬───────┬────────────┬────────────┬───┬────────────┬────────┬───────────────┬──────────────┐\n",
       "│ count ┆ valid ┆ acceptance ┆ collection ┆ … ┆ graph_size ┆ offset ┆ acceptance_dt ┆ collection_d │\n",
       "│ ---   ┆ ---   ┆ ---        ┆ ---        ┆   ┆ ---        ┆ ---    ┆ ---           ┆ t            │\n",
       "│ u32   ┆ u32   ┆ u32        ┆ u32        ┆   ┆ u32        ┆ u32    ┆ u32           ┆ ---          │\n",
       "│       ┆       ┆            ┆            ┆   ┆            ┆        ┆               ┆ u32          │\n",
       "╞═══════╪═══════╪════════════╪════════════╪═══╪════════════╪════════╪═══════════════╪══════════════╡\n",
       "│ 0     ┆ 0     ┆ 45025      ┆ 1187439    ┆ … ┆ 0          ┆ 0      ┆ 169417        ┆ 1187462      │\n",
       "└───────┴───────┴────────────┴────────────┴───┴────────────┴────────┴───────────────┴──────────────┘"
      ],
      "text/html": [
       "<div><style>\n",
       ".dataframe > thead > tr,\n",
       ".dataframe > tbody > tr {\n",
       "  text-align: right;\n",
       "  white-space: pre-wrap;\n",
       "}\n",
       "</style>\n",
       "<small>shape: (1, 9)</small><table border=\"1\" class=\"dataframe\"><thead><tr><th>count</th><th>valid</th><th>acceptance</th><th>collection</th><th>line_len</th><th>graph_size</th><th>offset</th><th>acceptance_dt</th><th>collection_dt</th></tr><tr><td>u32</td><td>u32</td><td>u32</td><td>u32</td><td>u32</td><td>u32</td><td>u32</td><td>u32</td><td>u32</td></tr></thead><tbody><tr><td>0</td><td>0</td><td>45025</td><td>1187439</td><td>0</td><td>0</td><td>0</td><td>169417</td><td>1187462</td></tr></tbody></table></div>"
      ]
     },
     "execution_count": 62,
     "metadata": {},
     "output_type": "execute_result"
    }
   ],
   "execution_count": 62
  },
  {
   "metadata": {
    "ExecuteTime": {
     "end_time": "2024-07-11T19:08:49.480354Z",
     "start_time": "2024-07-11T19:08:49.309966Z"
    }
   },
   "cell_type": "code",
   "source": "df_times.max()",
   "id": "9ca1481af5256178",
   "outputs": [
    {
     "data": {
      "text/plain": [
       "shape: (1, 9)\n",
       "┌──────────┬───────┬────────────┬────────────┬───┬────────────┬────────────┬───────────┬───────────┐\n",
       "│ count    ┆ valid ┆ acceptance ┆ collection ┆ … ┆ graph_size ┆ offset     ┆ acceptanc ┆ collectio │\n",
       "│ ---      ┆ ---   ┆ ---        ┆ ---        ┆   ┆ ---        ┆ ---        ┆ e_dt      ┆ n_dt      │\n",
       "│ i64      ┆ bool  ┆ str        ┆ str        ┆   ┆ i64        ┆ i64        ┆ ---       ┆ ---       │\n",
       "│          ┆       ┆            ┆            ┆   ┆            ┆            ┆ datetime[ ┆ datetime[ │\n",
       "│          ┆       ┆            ┆            ┆   ┆            ┆            ┆ μs]       ┆ μs, UTC]  │\n",
       "╞══════════╪═══════╪════════════╪════════════╪═══╪════════════╪════════════╪═══════════╪═══════════╡\n",
       "│ 29668771 ┆ true  ┆ Ă\u0000\u0000\u0000\u0000\u0000\u0000頓\u0000 ┆ 2020-12-14 ┆ … ┆ 8987       ┆ 9223185909 ┆ 9193-01-0 ┆ 2020-12-1 │\n",
       "│          ┆       ┆ 煥獣愠獵扨 ┆ T16:39:06. ┆   ┆            ┆ 8          ┆ 1         ┆ 4 16:39:0 │\n",
       "│          ┆       ┆ 敡瀀\u0000ｿｿｿｿ\u0000 ┆ 786Z       ┆   ┆            ┆            ┆ 00:00:00  ┆ 6.786 UTC │\n",
       "│          ┆       ┆ \u0000\u0000\u0000\u0000\u0000\u0000\u0000\u0000…  ┆            ┆   ┆            ┆            ┆           ┆           │\n",
       "└──────────┴───────┴────────────┴────────────┴───┴────────────┴────────────┴───────────┴───────────┘"
      ],
      "text/html": [
       "<div><style>\n",
       ".dataframe > thead > tr,\n",
       ".dataframe > tbody > tr {\n",
       "  text-align: right;\n",
       "  white-space: pre-wrap;\n",
       "}\n",
       "</style>\n",
       "<small>shape: (1, 9)</small><table border=\"1\" class=\"dataframe\"><thead><tr><th>count</th><th>valid</th><th>acceptance</th><th>collection</th><th>line_len</th><th>graph_size</th><th>offset</th><th>acceptance_dt</th><th>collection_dt</th></tr><tr><td>i64</td><td>bool</td><td>str</td><td>str</td><td>i64</td><td>i64</td><td>i64</td><td>datetime[μs]</td><td>datetime[μs, UTC]</td></tr></thead><tbody><tr><td>29668771</td><td>true</td><td>&quot;Ă\u0000\u0000\u0000\u0000\u0000\u0000頓\u0000煥獣愠獵扨敡瀀\u0000ｿｿｿｿ\u0000\u0000\u0000\u0000\u0000\u0000\u0000\u0000\u0000…</td><td>&quot;2020-12-14T16:39:06.786Z&quot;</td><td>3387049</td><td>8987</td><td>92231859098</td><td>9193-01-01 00:00:00</td><td>2020-12-14 16:39:06.786 UTC</td></tr></tbody></table></div>"
      ]
     },
     "execution_count": 63,
     "metadata": {},
     "output_type": "execute_result"
    }
   ],
   "execution_count": 63
  },
  {
   "metadata": {
    "ExecuteTime": {
     "end_time": "2024-07-11T19:08:51.686379Z",
     "start_time": "2024-07-11T19:08:51.510076Z"
    }
   },
   "cell_type": "code",
   "source": "df_times.min()",
   "id": "dd19160f4202a1c4",
   "outputs": [
    {
     "data": {
      "text/plain": [
       "shape: (1, 9)\n",
       "┌───────┬───────┬──────────────┬─────────────┬───┬────────────┬────────┬─────────────┬─────────────┐\n",
       "│ count ┆ valid ┆ acceptance   ┆ collection  ┆ … ┆ graph_size ┆ offset ┆ acceptance_ ┆ collection_ │\n",
       "│ ---   ┆ ---   ┆ ---          ┆ ---         ┆   ┆ ---        ┆ ---    ┆ dt          ┆ dt          │\n",
       "│ i64   ┆ bool  ┆ str          ┆ str         ┆   ┆ i64        ┆ i64    ┆ ---         ┆ ---         │\n",
       "│       ┆       ┆              ┆             ┆   ┆            ┆        ┆ datetime[μs ┆ datetime[μs │\n",
       "│       ┆       ┆              ┆             ┆   ┆            ┆        ┆ ]           ┆ , UTC]      │\n",
       "╞═══════╪═══════╪══════════════╪═════════════╪═══╪════════════╪════════╪═════════════╪═════════════╡\n",
       "│ 1     ┆ false ┆ \u0004q\b a\bu     ┆ 2017-01-31T ┆ … ┆ 0          ┆ 0      ┆ 0000-01-01  ┆ 2017-01-31  │\n",
       "│       ┆       ┆ ¹\u0005i\u000F         ┆ 15:48:12.21 ┆   ┆            ┆        ┆ 00:00:00    ┆ 15:48:12.21 │\n",
       "│       ┆       ┆              ┆ 3Z          ┆   ┆            ┆        ┆             ┆ 3 UTC       │\n",
       "└───────┴───────┴──────────────┴─────────────┴───┴────────────┴────────┴─────────────┴─────────────┘"
      ],
      "text/html": [
       "<div><style>\n",
       ".dataframe > thead > tr,\n",
       ".dataframe > tbody > tr {\n",
       "  text-align: right;\n",
       "  white-space: pre-wrap;\n",
       "}\n",
       "</style>\n",
       "<small>shape: (1, 9)</small><table border=\"1\" class=\"dataframe\"><thead><tr><th>count</th><th>valid</th><th>acceptance</th><th>collection</th><th>line_len</th><th>graph_size</th><th>offset</th><th>acceptance_dt</th><th>collection_dt</th></tr><tr><td>i64</td><td>bool</td><td>str</td><td>str</td><td>i64</td><td>i64</td><td>i64</td><td>datetime[μs]</td><td>datetime[μs, UTC]</td></tr></thead><tbody><tr><td>1</td><td>false</td><td>&quot;\u0004q\b a\bu ¹\u0005i\u000F&quot;</td><td>&quot;2017-01-31T15:48:12.213Z&quot;</td><td>457</td><td>0</td><td>0</td><td>0000-01-01 00:00:00</td><td>2017-01-31 15:48:12.213 UTC</td></tr></tbody></table></div>"
      ]
     },
     "execution_count": 64,
     "metadata": {},
     "output_type": "execute_result"
    }
   ],
   "execution_count": 64
  },
  {
   "metadata": {
    "ExecuteTime": {
     "end_time": "2024-07-11T18:49:59.717172Z",
     "start_time": "2024-07-11T18:49:59.344934Z"
    }
   },
   "cell_type": "code",
   "source": [
    "df_diffs = (\n",
    "    df_times.select(pl.col('collection_dt').alias('dt'))\n",
    "    .lazy()\n",
    "    .drop_nulls()\n",
    "    .sort('dt')\n",
    "    .with_columns(pl.col('dt').shift(1).alias('dt_1'))\n",
    "    .with_columns((pl.col('dt') - pl.col('dt_1')).alias('diff'))\n",
    "    .drop_nulls()\n",
    ").collect()\n",
    "df_diffs"
   ],
   "id": "dd98b4e8581f056a",
   "outputs": [
    {
     "data": {
      "text/plain": [
       "shape: (28_481_308, 3)\n",
       "┌─────────────────────────────┬─────────────────────────────┬───────────────────────┐\n",
       "│ dt                          ┆ dt_1                        ┆ diff                  │\n",
       "│ ---                         ┆ ---                         ┆ ---                   │\n",
       "│ datetime[μs, UTC]           ┆ datetime[μs, UTC]           ┆ duration[μs]          │\n",
       "╞═════════════════════════════╪═════════════════════════════╪═══════════════════════╡\n",
       "│ 2017-01-31 15:48:12.334 UTC ┆ 2017-01-31 15:48:12.213 UTC ┆ 121ms                 │\n",
       "│ 2017-04-10 14:40:28 UTC     ┆ 2017-01-31 15:48:12.334 UTC ┆ 68d 22h 52m 15s 666ms │\n",
       "│ 2017-05-04 23:04:41 UTC     ┆ 2017-04-10 14:40:28 UTC     ┆ 24d 8h 24m 13s        │\n",
       "│ 2017-05-04 23:04:41 UTC     ┆ 2017-05-04 23:04:41 UTC     ┆ 0µs                   │\n",
       "│ 2017-05-04 23:04:41 UTC     ┆ 2017-05-04 23:04:41 UTC     ┆ 0µs                   │\n",
       "│ …                           ┆ …                           ┆ …                     │\n",
       "│ 2020-12-14 16:39:06.717 UTC ┆ 2020-12-14 16:39:06.641 UTC ┆ 76ms                  │\n",
       "│ 2020-12-14 16:39:06.718 UTC ┆ 2020-12-14 16:39:06.717 UTC ┆ 1ms                   │\n",
       "│ 2020-12-14 16:39:06.782 UTC ┆ 2020-12-14 16:39:06.718 UTC ┆ 64ms                  │\n",
       "│ 2020-12-14 16:39:06.785 UTC ┆ 2020-12-14 16:39:06.782 UTC ┆ 3ms                   │\n",
       "│ 2020-12-14 16:39:06.786 UTC ┆ 2020-12-14 16:39:06.785 UTC ┆ 1ms                   │\n",
       "└─────────────────────────────┴─────────────────────────────┴───────────────────────┘"
      ],
      "text/html": [
       "<div><style>\n",
       ".dataframe > thead > tr,\n",
       ".dataframe > tbody > tr {\n",
       "  text-align: right;\n",
       "  white-space: pre-wrap;\n",
       "}\n",
       "</style>\n",
       "<small>shape: (28_481_308, 3)</small><table border=\"1\" class=\"dataframe\"><thead><tr><th>dt</th><th>dt_1</th><th>diff</th></tr><tr><td>datetime[μs, UTC]</td><td>datetime[μs, UTC]</td><td>duration[μs]</td></tr></thead><tbody><tr><td>2017-01-31 15:48:12.334 UTC</td><td>2017-01-31 15:48:12.213 UTC</td><td>121ms</td></tr><tr><td>2017-04-10 14:40:28 UTC</td><td>2017-01-31 15:48:12.334 UTC</td><td>68d 22h 52m 15s 666ms</td></tr><tr><td>2017-05-04 23:04:41 UTC</td><td>2017-04-10 14:40:28 UTC</td><td>24d 8h 24m 13s</td></tr><tr><td>2017-05-04 23:04:41 UTC</td><td>2017-05-04 23:04:41 UTC</td><td>0µs</td></tr><tr><td>2017-05-04 23:04:41 UTC</td><td>2017-05-04 23:04:41 UTC</td><td>0µs</td></tr><tr><td>&hellip;</td><td>&hellip;</td><td>&hellip;</td></tr><tr><td>2020-12-14 16:39:06.717 UTC</td><td>2020-12-14 16:39:06.641 UTC</td><td>76ms</td></tr><tr><td>2020-12-14 16:39:06.718 UTC</td><td>2020-12-14 16:39:06.717 UTC</td><td>1ms</td></tr><tr><td>2020-12-14 16:39:06.782 UTC</td><td>2020-12-14 16:39:06.718 UTC</td><td>64ms</td></tr><tr><td>2020-12-14 16:39:06.785 UTC</td><td>2020-12-14 16:39:06.782 UTC</td><td>3ms</td></tr><tr><td>2020-12-14 16:39:06.786 UTC</td><td>2020-12-14 16:39:06.785 UTC</td><td>1ms</td></tr></tbody></table></div>"
      ]
     },
     "execution_count": 40,
     "metadata": {},
     "output_type": "execute_result"
    }
   ],
   "execution_count": 40
  },
  {
   "metadata": {
    "ExecuteTime": {
     "end_time": "2024-07-11T18:50:14.527488Z",
     "start_time": "2024-07-11T18:50:14.376106Z"
    }
   },
   "cell_type": "code",
   "source": "df_diffs.describe()",
   "id": "23ad96d3039fdcc5",
   "outputs": [
    {
     "data": {
      "text/plain": [
       "shape: (9, 4)\n",
       "┌────────────┬───────────────────────────┬─────────────────────────────────┬───────────────────┐\n",
       "│ statistic  ┆ dt                        ┆ dt_1                            ┆ diff              │\n",
       "│ ---        ┆ ---                       ┆ ---                             ┆ ---               │\n",
       "│ str        ┆ str                       ┆ str                             ┆ str               │\n",
       "╞════════════╪═══════════════════════════╪═════════════════════════════════╪═══════════════════╡\n",
       "│ count      ┆ 28481308                  ┆ 28481308                        ┆ 28481308          │\n",
       "│ null_count ┆ 0                         ┆ 0                               ┆ 0                 │\n",
       "│ mean       ┆ 2019-10-07                ┆ 2019-10-07 16:02:39.693065+00:… ┆ 0:00:04.286539    │\n",
       "│            ┆ 16:02:43.979605+00:…      ┆                                 ┆                   │\n",
       "│ std        ┆ null                      ┆ null                            ┆ null              │\n",
       "│ min        ┆ 2017-01-31                ┆ 2017-01-31 15:48:12.213000+00:… ┆ 0:00:00           │\n",
       "│            ┆ 15:48:12.334000+00:…      ┆                                 ┆                   │\n",
       "│ 25%        ┆ 2019-04-05 10:40:37+00:00 ┆ 2019-04-05 10:40:37+00:00       ┆ 0:00:00           │\n",
       "│ 50%        ┆ 2019-11-18 23:00:35+00:00 ┆ 2019-11-18 23:00:35+00:00       ┆ 0:00:00           │\n",
       "│ 75%        ┆ 2020-01-09 04:10:44+00:00 ┆ 2020-01-09 04:10:44+00:00       ┆ 0:00:00           │\n",
       "│ max        ┆ 2020-12-14                ┆ 2020-12-14 16:39:06.785000+00:… ┆ 75 days, 21:35:58 │\n",
       "│            ┆ 16:39:06.786000+00:…      ┆                                 ┆                   │\n",
       "└────────────┴───────────────────────────┴─────────────────────────────────┴───────────────────┘"
      ],
      "text/html": [
       "<div><style>\n",
       ".dataframe > thead > tr,\n",
       ".dataframe > tbody > tr {\n",
       "  text-align: right;\n",
       "  white-space: pre-wrap;\n",
       "}\n",
       "</style>\n",
       "<small>shape: (9, 4)</small><table border=\"1\" class=\"dataframe\"><thead><tr><th>statistic</th><th>dt</th><th>dt_1</th><th>diff</th></tr><tr><td>str</td><td>str</td><td>str</td><td>str</td></tr></thead><tbody><tr><td>&quot;count&quot;</td><td>&quot;28481308&quot;</td><td>&quot;28481308&quot;</td><td>&quot;28481308&quot;</td></tr><tr><td>&quot;null_count&quot;</td><td>&quot;0&quot;</td><td>&quot;0&quot;</td><td>&quot;0&quot;</td></tr><tr><td>&quot;mean&quot;</td><td>&quot;2019-10-07 16:02:43.979605+00:…</td><td>&quot;2019-10-07 16:02:39.693065+00:…</td><td>&quot;0:00:04.286539&quot;</td></tr><tr><td>&quot;std&quot;</td><td>null</td><td>null</td><td>null</td></tr><tr><td>&quot;min&quot;</td><td>&quot;2017-01-31 15:48:12.334000+00:…</td><td>&quot;2017-01-31 15:48:12.213000+00:…</td><td>&quot;0:00:00&quot;</td></tr><tr><td>&quot;25%&quot;</td><td>&quot;2019-04-05 10:40:37+00:00&quot;</td><td>&quot;2019-04-05 10:40:37+00:00&quot;</td><td>&quot;0:00:00&quot;</td></tr><tr><td>&quot;50%&quot;</td><td>&quot;2019-11-18 23:00:35+00:00&quot;</td><td>&quot;2019-11-18 23:00:35+00:00&quot;</td><td>&quot;0:00:00&quot;</td></tr><tr><td>&quot;75%&quot;</td><td>&quot;2020-01-09 04:10:44+00:00&quot;</td><td>&quot;2020-01-09 04:10:44+00:00&quot;</td><td>&quot;0:00:00&quot;</td></tr><tr><td>&quot;max&quot;</td><td>&quot;2020-12-14 16:39:06.786000+00:…</td><td>&quot;2020-12-14 16:39:06.785000+00:…</td><td>&quot;75 days, 21:35:58&quot;</td></tr></tbody></table></div>"
      ]
     },
     "execution_count": 41,
     "metadata": {},
     "output_type": "execute_result"
    }
   ],
   "execution_count": 41
  },
  {
   "metadata": {
    "ExecuteTime": {
     "end_time": "2024-07-11T18:49:20.317045Z",
     "start_time": "2024-07-11T18:49:20.035792Z"
    }
   },
   "cell_type": "code",
   "source": [
    "(\n",
    "    df_times.select(pl.col('collection_dt').alias('dt'))\n",
    "    .lazy()\n",
    "    .drop_nulls()\n",
    "    .sort('dt')\n",
    ").collect()"
   ],
   "id": "d2945cd76430ce92",
   "outputs": [
    {
     "data": {
      "text/plain": [
       "shape: (28_481_309, 1)\n",
       "┌─────────────────────────────┐\n",
       "│ dt                          │\n",
       "│ ---                         │\n",
       "│ datetime[μs, UTC]           │\n",
       "╞═════════════════════════════╡\n",
       "│ 2017-01-31 15:48:12.213 UTC │\n",
       "│ 2017-01-31 15:48:12.334 UTC │\n",
       "│ 2017-04-10 14:40:28 UTC     │\n",
       "│ 2017-05-04 23:04:41 UTC     │\n",
       "│ 2017-05-04 23:04:41 UTC     │\n",
       "│ …                           │\n",
       "│ 2020-12-14 16:39:06.717 UTC │\n",
       "│ 2020-12-14 16:39:06.718 UTC │\n",
       "│ 2020-12-14 16:39:06.782 UTC │\n",
       "│ 2020-12-14 16:39:06.785 UTC │\n",
       "│ 2020-12-14 16:39:06.786 UTC │\n",
       "└─────────────────────────────┘"
      ],
      "text/html": [
       "<div><style>\n",
       ".dataframe > thead > tr,\n",
       ".dataframe > tbody > tr {\n",
       "  text-align: right;\n",
       "  white-space: pre-wrap;\n",
       "}\n",
       "</style>\n",
       "<small>shape: (28_481_309, 1)</small><table border=\"1\" class=\"dataframe\"><thead><tr><th>dt</th></tr><tr><td>datetime[μs, UTC]</td></tr></thead><tbody><tr><td>2017-01-31 15:48:12.213 UTC</td></tr><tr><td>2017-01-31 15:48:12.334 UTC</td></tr><tr><td>2017-04-10 14:40:28 UTC</td></tr><tr><td>2017-05-04 23:04:41 UTC</td></tr><tr><td>2017-05-04 23:04:41 UTC</td></tr><tr><td>&hellip;</td></tr><tr><td>2020-12-14 16:39:06.717 UTC</td></tr><tr><td>2020-12-14 16:39:06.718 UTC</td></tr><tr><td>2020-12-14 16:39:06.782 UTC</td></tr><tr><td>2020-12-14 16:39:06.785 UTC</td></tr><tr><td>2020-12-14 16:39:06.786 UTC</td></tr></tbody></table></div>"
      ]
     },
     "execution_count": 39,
     "metadata": {},
     "output_type": "execute_result"
    }
   ],
   "execution_count": 39
  },
  {
   "metadata": {
    "ExecuteTime": {
     "end_time": "2024-07-11T18:52:01.126322Z",
     "start_time": "2024-07-11T18:52:00.895800Z"
    }
   },
   "cell_type": "code",
   "source": "df_times.drop_nulls('collection_dt').null_count()",
   "id": "3b6736acdba33dcf",
   "outputs": [
    {
     "data": {
      "text/plain": [
       "shape: (1, 8)\n",
       "┌───────┬───────┬────────────┬────────────┬──────────┬────────────┬───────────────┬───────────────┐\n",
       "│ count ┆ valid ┆ acceptance ┆ collection ┆ line_len ┆ graph_size ┆ acceptance_dt ┆ collection_dt │\n",
       "│ ---   ┆ ---   ┆ ---        ┆ ---        ┆ ---      ┆ ---        ┆ ---           ┆ ---           │\n",
       "│ u32   ┆ u32   ┆ u32        ┆ u32        ┆ u32      ┆ u32        ┆ u32           ┆ u32           │\n",
       "╞═══════╪═══════╪════════════╪════════════╪══════════╪════════════╪═══════════════╪═══════════════╡\n",
       "│ 0     ┆ 0     ┆ 37503      ┆ 0          ┆ 0        ┆ 0          ┆ 161652        ┆ 0             │\n",
       "└───────┴───────┴────────────┴────────────┴──────────┴────────────┴───────────────┴───────────────┘"
      ],
      "text/html": [
       "<div><style>\n",
       ".dataframe > thead > tr,\n",
       ".dataframe > tbody > tr {\n",
       "  text-align: right;\n",
       "  white-space: pre-wrap;\n",
       "}\n",
       "</style>\n",
       "<small>shape: (1, 8)</small><table border=\"1\" class=\"dataframe\"><thead><tr><th>count</th><th>valid</th><th>acceptance</th><th>collection</th><th>line_len</th><th>graph_size</th><th>acceptance_dt</th><th>collection_dt</th></tr><tr><td>u32</td><td>u32</td><td>u32</td><td>u32</td><td>u32</td><td>u32</td><td>u32</td><td>u32</td></tr></thead><tbody><tr><td>0</td><td>0</td><td>37503</td><td>0</td><td>0</td><td>0</td><td>161652</td><td>0</td></tr></tbody></table></div>"
      ]
     },
     "execution_count": 45,
     "metadata": {},
     "output_type": "execute_result"
    }
   ],
   "execution_count": 45
  },
  {
   "metadata": {
    "ExecuteTime": {
     "end_time": "2024-07-11T19:09:25.265698Z",
     "start_time": "2024-07-11T19:09:23.840208Z"
    }
   },
   "cell_type": "code",
   "source": [
    "df_clean = (\n",
    "    df_times\n",
    "    .lazy()\n",
    "    .drop_nulls('collection_dt')\n",
    "    .sort('collection_dt', 'count')   \n",
    ").collect()"
   ],
   "id": "38ac5ab59442cbe0",
   "outputs": [],
   "execution_count": 65
  },
  {
   "metadata": {
    "ExecuteTime": {
     "end_time": "2024-07-11T19:09:27.619070Z",
     "start_time": "2024-07-11T19:09:27.616529Z"
    }
   },
   "cell_type": "code",
   "source": "df_clean",
   "id": "789718c665542235",
   "outputs": [
    {
     "data": {
      "text/plain": [
       "shape: (28_481_309, 9)\n",
       "┌──────────┬───────┬────────────┬────────────┬───┬────────────┬────────────┬───────────┬───────────┐\n",
       "│ count    ┆ valid ┆ acceptance ┆ collection ┆ … ┆ graph_size ┆ offset     ┆ acceptanc ┆ collectio │\n",
       "│ ---      ┆ ---   ┆ ---        ┆ ---        ┆   ┆ ---        ┆ ---        ┆ e_dt      ┆ n_dt      │\n",
       "│ i64      ┆ bool  ┆ str        ┆ str        ┆   ┆ i64        ┆ i64        ┆ ---       ┆ ---       │\n",
       "│          ┆       ┆            ┆            ┆   ┆            ┆            ┆ datetime[ ┆ datetime[ │\n",
       "│          ┆       ┆            ┆            ┆   ┆            ┆            ┆ μs]       ┆ μs, UTC]  │\n",
       "╞══════════╪═══════╪════════════╪════════════╪═══╪════════════╪════════════╪═══════════╪═══════════╡\n",
       "│ 25233760 ┆ true  ┆ null       ┆ 2017-01-31 ┆ … ┆ 13         ┆ 7843651545 ┆ null      ┆ 2017-01-3 │\n",
       "│          ┆       ┆            ┆ T15:48:12. ┆   ┆            ┆ 1          ┆           ┆ 1 15:48:1 │\n",
       "│          ┆       ┆            ┆ 213Z       ┆   ┆            ┆            ┆           ┆ 2.213 UTC │\n",
       "│ 19771648 ┆ true  ┆ null       ┆ 2017-01-31 ┆ … ┆ 16         ┆ 6145783942 ┆ null      ┆ 2017-01-3 │\n",
       "│          ┆       ┆            ┆ T15:48:12. ┆   ┆            ┆ 0          ┆           ┆ 1 15:48:1 │\n",
       "│          ┆       ┆            ┆ 334Z       ┆   ┆            ┆            ┆           ┆ 2.334 UTC │\n",
       "│ 18789661 ┆ true  ┆ 2015-07-06 ┆ 2017-04-10 ┆ … ┆ 18         ┆ 5840601526 ┆ 2015-07-0 ┆ 2017-04-1 │\n",
       "│          ┆       ┆            ┆ T14:40:28Z ┆   ┆            ┆ 0          ┆ 6         ┆ 0         │\n",
       "│          ┆       ┆            ┆            ┆   ┆            ┆            ┆ 00:00:00  ┆ 14:40:28  │\n",
       "│          ┆       ┆            ┆            ┆   ┆            ┆            ┆           ┆ UTC       │\n",
       "│ 5150003  ┆ true  ┆ 2008-06-30 ┆ 2017-05-04 ┆ … ┆ 29         ┆ 1599832894 ┆ 2008-06-3 ┆ 2017-05-0 │\n",
       "│          ┆       ┆            ┆ T23:04:41Z ┆   ┆            ┆ 7          ┆ 0         ┆ 4         │\n",
       "│          ┆       ┆            ┆            ┆   ┆            ┆            ┆ 00:00:00  ┆ 23:04:41  │\n",
       "│          ┆       ┆            ┆            ┆   ┆            ┆            ┆           ┆ UTC       │\n",
       "│ 18564190 ┆ true  ┆ 2008-06-30 ┆ 2017-05-04 ┆ … ┆ 32         ┆ 5770067604 ┆ 2008-06-3 ┆ 2017-05-0 │\n",
       "│          ┆       ┆            ┆ T23:04:41Z ┆   ┆            ┆ 4          ┆ 0         ┆ 4         │\n",
       "│          ┆       ┆            ┆            ┆   ┆            ┆            ┆ 00:00:00  ┆ 23:04:41  │\n",
       "│          ┆       ┆            ┆            ┆   ┆            ┆            ┆           ┆ UTC       │\n",
       "│ …        ┆ …     ┆ …          ┆ …          ┆ … ┆ …          ┆ …          ┆ …         ┆ …         │\n",
       "│ 17964052 ┆ true  ┆ null       ┆ 2020-12-14 ┆ … ┆ 12         ┆ 5583685175 ┆ null      ┆ 2020-12-1 │\n",
       "│          ┆       ┆            ┆ T16:39:06. ┆   ┆            ┆ 0          ┆           ┆ 4 16:39:0 │\n",
       "│          ┆       ┆            ┆ 717Z       ┆   ┆            ┆            ┆           ┆ 6.717 UTC │\n",
       "│ 29247042 ┆ true  ┆ null       ┆ 2020-12-14 ┆ … ┆ 13         ┆ 9092203922 ┆ null      ┆ 2020-12-1 │\n",
       "│          ┆       ┆            ┆ T16:39:06. ┆   ┆            ┆ 9          ┆           ┆ 4 16:39:0 │\n",
       "│          ┆       ┆            ┆ 718Z       ┆   ┆            ┆            ┆           ┆ 6.718 UTC │\n",
       "│ 23340229 ┆ true  ┆ 2015       ┆ 2020-12-14 ┆ … ┆ 36         ┆ 7254421020 ┆ null      ┆ 2020-12-1 │\n",
       "│          ┆       ┆            ┆ T16:39:06. ┆   ┆            ┆ 4          ┆           ┆ 4 16:39:0 │\n",
       "│          ┆       ┆            ┆ 782Z       ┆   ┆            ┆            ┆           ┆ 6.782 UTC │\n",
       "│ 20160124 ┆ true  ┆ null       ┆ 2020-12-14 ┆ … ┆ 23         ┆ 6266865787 ┆ null      ┆ 2020-12-1 │\n",
       "│          ┆       ┆            ┆ T16:39:06. ┆   ┆            ┆ 7          ┆           ┆ 4 16:39:0 │\n",
       "│          ┆       ┆            ┆ 785Z       ┆   ┆            ┆            ┆           ┆ 6.785 UTC │\n",
       "│ 2611393  ┆ true  ┆ null       ┆ 2020-12-14 ┆ … ┆ 22         ┆ 8114450652 ┆ null      ┆ 2020-12-1 │\n",
       "│          ┆       ┆            ┆ T16:39:06. ┆   ┆            ┆            ┆           ┆ 4 16:39:0 │\n",
       "│          ┆       ┆            ┆ 786Z       ┆   ┆            ┆            ┆           ┆ 6.786 UTC │\n",
       "└──────────┴───────┴────────────┴────────────┴───┴────────────┴────────────┴───────────┴───────────┘"
      ],
      "text/html": [
       "<div><style>\n",
       ".dataframe > thead > tr,\n",
       ".dataframe > tbody > tr {\n",
       "  text-align: right;\n",
       "  white-space: pre-wrap;\n",
       "}\n",
       "</style>\n",
       "<small>shape: (28_481_309, 9)</small><table border=\"1\" class=\"dataframe\"><thead><tr><th>count</th><th>valid</th><th>acceptance</th><th>collection</th><th>line_len</th><th>graph_size</th><th>offset</th><th>acceptance_dt</th><th>collection_dt</th></tr><tr><td>i64</td><td>bool</td><td>str</td><td>str</td><td>i64</td><td>i64</td><td>i64</td><td>datetime[μs]</td><td>datetime[μs, UTC]</td></tr></thead><tbody><tr><td>25233760</td><td>true</td><td>null</td><td>&quot;2017-01-31T15:48:12.213Z&quot;</td><td>1071</td><td>13</td><td>78436515451</td><td>null</td><td>2017-01-31 15:48:12.213 UTC</td></tr><tr><td>19771648</td><td>true</td><td>null</td><td>&quot;2017-01-31T15:48:12.334Z&quot;</td><td>1220</td><td>16</td><td>61457839420</td><td>null</td><td>2017-01-31 15:48:12.334 UTC</td></tr><tr><td>18789661</td><td>true</td><td>&quot;2015-07-06&quot;</td><td>&quot;2017-04-10T14:40:28Z&quot;</td><td>17892</td><td>18</td><td>58406015260</td><td>2015-07-06 00:00:00</td><td>2017-04-10 14:40:28 UTC</td></tr><tr><td>5150003</td><td>true</td><td>&quot;2008-06-30&quot;</td><td>&quot;2017-05-04T23:04:41Z&quot;</td><td>3678</td><td>29</td><td>15998328947</td><td>2008-06-30 00:00:00</td><td>2017-05-04 23:04:41 UTC</td></tr><tr><td>18564190</td><td>true</td><td>&quot;2008-06-30&quot;</td><td>&quot;2017-05-04T23:04:41Z&quot;</td><td>4863</td><td>32</td><td>57700676044</td><td>2008-06-30 00:00:00</td><td>2017-05-04 23:04:41 UTC</td></tr><tr><td>&hellip;</td><td>&hellip;</td><td>&hellip;</td><td>&hellip;</td><td>&hellip;</td><td>&hellip;</td><td>&hellip;</td><td>&hellip;</td><td>&hellip;</td></tr><tr><td>17964052</td><td>true</td><td>null</td><td>&quot;2020-12-14T16:39:06.717Z&quot;</td><td>846</td><td>12</td><td>55836851750</td><td>null</td><td>2020-12-14 16:39:06.717 UTC</td></tr><tr><td>29247042</td><td>true</td><td>null</td><td>&quot;2020-12-14T16:39:06.718Z&quot;</td><td>922</td><td>13</td><td>90922039229</td><td>null</td><td>2020-12-14 16:39:06.718 UTC</td></tr><tr><td>23340229</td><td>true</td><td>&quot;2015&quot;</td><td>&quot;2020-12-14T16:39:06.782Z&quot;</td><td>2802</td><td>36</td><td>72544210204</td><td>null</td><td>2020-12-14 16:39:06.782 UTC</td></tr><tr><td>20160124</td><td>true</td><td>null</td><td>&quot;2020-12-14T16:39:06.785Z&quot;</td><td>2462</td><td>23</td><td>62668657877</td><td>null</td><td>2020-12-14 16:39:06.785 UTC</td></tr><tr><td>2611393</td><td>true</td><td>null</td><td>&quot;2020-12-14T16:39:06.786Z&quot;</td><td>2537</td><td>22</td><td>8114450652</td><td>null</td><td>2020-12-14 16:39:06.786 UTC</td></tr></tbody></table></div>"
      ]
     },
     "execution_count": 66,
     "metadata": {},
     "output_type": "execute_result"
    }
   ],
   "execution_count": 66
  },
  {
   "metadata": {
    "ExecuteTime": {
     "end_time": "2024-07-11T19:11:43.203617Z",
     "start_time": "2024-07-11T19:11:40.067111Z"
    }
   },
   "cell_type": "code",
   "source": [
    "df_clean.select(pl.col('count'), pl.col('offset'), pl.col('line_len')).write_parquet(\n",
    "    '../data/stats/openaire-lod/lines-to-include.parquet',\n",
    ")"
   ],
   "id": "ee38c2b16f392cf8",
   "outputs": [],
   "execution_count": 69
  },
  {
   "metadata": {
    "ExecuteTime": {
     "end_time": "2024-07-11T19:11:06.726924Z",
     "start_time": "2024-07-11T19:11:06.451011Z"
    }
   },
   "cell_type": "code",
   "source": [
    "df_clean.lazy().select(\n",
    "    pl.col('line_len'), pl.col('graph_size'),\n",
    ").describe()"
   ],
   "id": "1ce16c9a67d76b2",
   "outputs": [
    {
     "data": {
      "text/plain": [
       "shape: (9, 3)\n",
       "┌────────────┬─────────────┬─────────────┐\n",
       "│ statistic  ┆ line_len    ┆ graph_size  │\n",
       "│ ---        ┆ ---         ┆ ---         │\n",
       "│ str        ┆ f64         ┆ f64         │\n",
       "╞════════════╪═════════════╪═════════════╡\n",
       "│ count      ┆ 2.8481309e7 ┆ 2.8481309e7 │\n",
       "│ null_count ┆ 0.0         ┆ 0.0         │\n",
       "│ mean       ┆ 3126.266222 ┆ 30.459926   │\n",
       "│ std        ┆ 5796.852205 ┆ 42.142576   │\n",
       "│ min        ┆ 602.0       ┆ 8.0         │\n",
       "│ 25%        ┆ 2324.0      ┆ 25.0        │\n",
       "│ 50%        ┆ 2978.0      ┆ 30.0        │\n",
       "│ 75%        ┆ 3627.0      ┆ 34.0        │\n",
       "│ max        ┆ 3.387049e6  ┆ 8987.0      │\n",
       "└────────────┴─────────────┴─────────────┘"
      ],
      "text/html": [
       "<div><style>\n",
       ".dataframe > thead > tr,\n",
       ".dataframe > tbody > tr {\n",
       "  text-align: right;\n",
       "  white-space: pre-wrap;\n",
       "}\n",
       "</style>\n",
       "<small>shape: (9, 3)</small><table border=\"1\" class=\"dataframe\"><thead><tr><th>statistic</th><th>line_len</th><th>graph_size</th></tr><tr><td>str</td><td>f64</td><td>f64</td></tr></thead><tbody><tr><td>&quot;count&quot;</td><td>2.8481309e7</td><td>2.8481309e7</td></tr><tr><td>&quot;null_count&quot;</td><td>0.0</td><td>0.0</td></tr><tr><td>&quot;mean&quot;</td><td>3126.266222</td><td>30.459926</td></tr><tr><td>&quot;std&quot;</td><td>5796.852205</td><td>42.142576</td></tr><tr><td>&quot;min&quot;</td><td>602.0</td><td>8.0</td></tr><tr><td>&quot;25%&quot;</td><td>2324.0</td><td>25.0</td></tr><tr><td>&quot;50%&quot;</td><td>2978.0</td><td>30.0</td></tr><tr><td>&quot;75%&quot;</td><td>3627.0</td><td>34.0</td></tr><tr><td>&quot;max&quot;</td><td>3.387049e6</td><td>8987.0</td></tr></tbody></table></div>"
      ]
     },
     "execution_count": 68,
     "metadata": {},
     "output_type": "execute_result"
    }
   ],
   "execution_count": 68
  },
  {
   "metadata": {
    "ExecuteTime": {
     "end_time": "2024-07-11T18:58:36.497241Z",
     "start_time": "2024-07-11T18:58:36.495085Z"
    }
   },
   "cell_type": "code",
   "source": "2.8481309e7 * 30.459926",
   "id": "8907a8ada4a42d1a",
   "outputs": [
    {
     "data": {
      "text/plain": [
       "867538564.523134"
      ]
     },
     "execution_count": 54,
     "metadata": {},
     "output_type": "execute_result"
    }
   ],
   "execution_count": 54
  }
 ],
 "metadata": {
  "kernelspec": {
   "display_name": "Python 3",
   "language": "python",
   "name": "python3"
  },
  "language_info": {
   "codemirror_mode": {
    "name": "ipython",
    "version": 2
   },
   "file_extension": ".py",
   "mimetype": "text/x-python",
   "name": "python",
   "nbconvert_exporter": "python",
   "pygments_lexer": "ipython2",
   "version": "2.7.6"
  }
 },
 "nbformat": 4,
 "nbformat_minor": 5
}
