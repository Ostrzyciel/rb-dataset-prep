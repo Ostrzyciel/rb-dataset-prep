{
 "cells": [
  {
   "cell_type": "code",
   "execution_count": 3,
   "metadata": {
    "collapsed": true,
    "ExecuteTime": {
     "start_time": "2023-05-09T10:42:04.083771Z",
     "end_time": "2023-05-09T10:42:04.089265Z"
    }
   },
   "outputs": [],
   "source": [
    "from pathlib import Path\n",
    "import os\n",
    "import re"
   ]
  },
  {
   "cell_type": "code",
   "execution_count": 2,
   "outputs": [],
   "source": [
    "in_dir = Path('../data/out/dbpedia-live')\n",
    "out_dir = Path('../data/out/dbpedia-fixed')"
   ],
   "metadata": {
    "collapsed": false,
    "ExecuteTime": {
     "start_time": "2023-05-09T10:41:48.215312Z",
     "end_time": "2023-05-09T10:41:48.217889Z"
    }
   }
  },
  {
   "cell_type": "code",
   "execution_count": 33,
   "outputs": [
    {
     "name": "stdout",
     "output_type": "stream",
     "text": [
      "0000000000\n",
      "0000010000\n",
      "0000020000\n",
      "0000030000\n",
      "0000040000\n",
      "0000050000\n",
      "0000060000\n",
      "0000070000\n",
      "0000080000\n",
      "0000090000\n",
      "0000100000\n",
      "0000110000\n",
      "0000120000\n",
      "0000130000\n",
      "0000140000\n",
      "0000150000\n",
      "0000160000\n"
     ]
    }
   ],
   "source": [
    "rx_gregorian = re.compile(' \"-(\\d{1,3})\"\\^\\^<http:\\/\\/www\\.w3\\.org\\/2001\\/XMLSchema#gYear>')\n",
    "rx_bad_uri = re.compile(' <(https?):\\/?([^\\/])')\n",
    "rx_bad_uri_2 = re.compile(' <(https?):\\/{3,}([^\\/])')\n",
    "rx_bad_uri_3 = re.compile(' <http[^>]{,10}https?:[^>]*>')\n",
    "rx_bad_uri_4 = re.compile(' <http[^>]+https?:\\/?[^/][^>]+>')\n",
    "rx_bad_uri_5 = re.compile(' <https?://(-[^>]+|[^/>]+[-:])>')\n",
    "rx_bad_uri_6 = re.compile(' <https?:/{1,}>')\n",
    "what_even_is_this = re.compile(' <[^>]+@[^>]*>')\n",
    "# This is not perfect, but the ways of broken Unicode are many and varied.\n",
    "# Too complex for me.\n",
    "# The few random characters outside the main \"bad\" range are deprecated Unicode chars, apparently.\n",
    "# Unfortunately, there is more of them. Thankfully not in this dataset.\n",
    "rx_bad_utf_iri = re.compile(' <[^>]+[\\u0673\\u0f77\\u0f79\\ud7ff-\\U0010FFFD][^>]*>')\n",
    "rx_bad_infinity = re.compile('\"(-?)Inf[^\"]*\"(\\^\\^<http://www\\.w3\\.org/2001/XMLSchema#(double|float)>)')\n",
    "\n",
    "for d1 in sorted(os.listdir(in_dir)):\n",
    "    for d2 in sorted(os.listdir(in_dir / d1)):\n",
    "        (out_dir / d1 / d2).mkdir(parents=True, exist_ok=True)\n",
    "        for f in sorted(os.listdir(in_dir / d1 / d2)):\n",
    "            if not f.endswith('.ttl'):\n",
    "                continue\n",
    "            out_path = out_dir / d1 / d2 / f\n",
    "            with open(in_dir / d1 / d2 / f) as in_f:\n",
    "                with open(out_path, 'wt') as out_f:\n",
    "                    for line in in_f:\n",
    "                        if what_even_is_this.search(line) or rx_bad_utf_iri.search(line) or \\\n",
    "                                rx_bad_uri_3.search(line) or rx_bad_uri_4.search(line) or \\\n",
    "                                rx_bad_uri_5.search(line) or rx_bad_uri_6.search(line):\n",
    "                            continue\n",
    "                        # Fix gregorian negative years... they must have 4 digits FOR WHATEVER REASON\n",
    "                        # standards, man.\n",
    "                        line = rx_gregorian.sub(\n",
    "                            lambda m: f' \"-{int(m.group(1)):04}\"^^<http://www.w3.org/2001/XMLSchema#gYear>',\n",
    "                            line\n",
    "                        )\n",
    "                        line = rx_bad_uri.sub(r' <\\1://\\2', line)\n",
    "                        line = rx_bad_uri_2.sub(r' <\\1://\\2', line)\n",
    "                        line = rx_bad_infinity.sub(r'\"\\1INF\"\\2', line)\n",
    "                        # unicode replacement character -- ??!?!?\n",
    "                        line = line.replace('\\uFFFD', '?')\n",
    "                        out_f.write(line)\n",
    "\n",
    "            if int(f[:-4]) % 10_000 == 0:\n",
    "                print(f[:-4])"
   ],
   "metadata": {
    "collapsed": false,
    "ExecuteTime": {
     "start_time": "2023-05-09T14:59:05.887275Z",
     "end_time": "2023-05-09T15:01:03.008909Z"
    }
   }
  },
  {
   "cell_type": "code",
   "execution_count": 17,
   "outputs": [
    {
     "name": "stdout",
     "output_type": "stream",
     "text": [
      "W 0x57\n",
      "h 0x68\n",
      "a 0x61\n",
      "t 0x74\n",
      "_ 0x5f\n",
      "t 0x74\n",
      "н 0x43d\n",
      "e 0x65\n",
      "⃗ 0x20d7\n",
      "_ 0x5f\n",
      "♯ 0x266f\n",
      "$ 0x24\n",
      "* 0x2a\n",
      "! 0x21\n",
      "_ 0x5f\n",
      "D 0x44\n",
      "⃗ 0x20d7\n",
      "𝞱 0x1d7b1\n",
      "_ 0x5f\n",
      "𝓌 0x1d4cc\n",
      "Σ 0x3a3\n",
      "_ 0x5f\n",
      "( 0x28\n",
      "k 0x6b\n",
      ") 0x29\n",
      "π 0x3c0\n",
      "o 0x6f\n",
      "w 0x77\n",
      "! 0x21\n",
      "% 0x25\n",
      "3 0x33\n",
      "F 0x46\n",
      "& 0x26\n",
      "o 0x6f\n",
      "l 0x6c\n",
      "d 0x64\n",
      "i 0x69\n",
      "d 0x64\n",
      "= 0x3d\n",
      "4 0x34\n",
      "8 0x38\n",
      "0 0x30\n",
      "7 0x37\n",
      "1 0x31\n",
      "0 0x30\n",
      "9 0x39\n",
      "1 0x31\n",
      "4 0x34\n",
      "> 0x3e\n"
     ]
    }
   ],
   "source": [
    "# actual thing that came out of wikipedia\n",
    "t = 'What_tнe⃗_♯$*!_D⃗𝞱_𝓌Σ_(k)πow!%3F&oldid=480710914>'\n",
    "for c in t:\n",
    "    # c and ord(c) in hex\n",
    "    print(c, hex(ord(c)))"
   ],
   "metadata": {
    "collapsed": false,
    "ExecuteTime": {
     "start_time": "2023-05-09T12:18:37.862512Z",
     "end_time": "2023-05-09T12:18:37.904005Z"
    }
   }
  },
  {
   "cell_type": "code",
   "execution_count": 25,
   "outputs": [
    {
     "name": "stdout",
     "output_type": "stream",
     "text": [
      "t 0x74\n",
      "i 0x69\n",
      "t 0x74\n",
      "l 0x6c\n",
      "e 0x65\n",
      "= 0x3d\n",
      "ٳ 0x673\n",
      "& 0x26\n",
      "a 0x61\n",
      "c 0x63\n",
      "t 0x74\n",
      "i 0x69\n",
      "o 0x6f\n",
      "n 0x6e\n",
      "= 0x3d\n",
      "h 0x68\n",
      "i 0x69\n",
      "s 0x73\n",
      "t 0x74\n",
      "o 0x6f\n",
      "r 0x72\n",
      "y 0x79\n",
      "> 0x3e\n"
     ]
    }
   ],
   "source": [
    "# this one makes my cursor go crazy\n",
    "t = 'title=ٳ&action=history>'\n",
    "for c in t:\n",
    "    print(c, hex(ord(c)))\n"
   ],
   "metadata": {
    "collapsed": false,
    "ExecuteTime": {
     "start_time": "2023-05-09T14:29:49.433917Z",
     "end_time": "2023-05-09T14:29:49.475973Z"
    }
   }
  },
  {
   "cell_type": "code",
   "execution_count": 32,
   "outputs": [
    {
     "name": "stdout",
     "output_type": "stream",
     "text": [
      "l 0x6c\n",
      "e 0x65\n",
      "= 0x3d\n",
      "ཹ 0xf79\n",
      "& 0x26\n",
      "o 0x6f\n",
      "l 0x6c\n"
     ]
    }
   ],
   "source": [
    "t = 'le=ཹ&ol'\n",
    "for c in t:\n",
    "    print(c, hex(ord(c)))\n"
   ],
   "metadata": {
    "collapsed": false,
    "ExecuteTime": {
     "start_time": "2023-05-09T14:58:25.585323Z",
     "end_time": "2023-05-09T14:58:25.627913Z"
    }
   }
  }
 ],
 "metadata": {
  "kernelspec": {
   "display_name": "Python 3",
   "language": "python",
   "name": "python3"
  },
  "language_info": {
   "codemirror_mode": {
    "name": "ipython",
    "version": 2
   },
   "file_extension": ".py",
   "mimetype": "text/x-python",
   "name": "python",
   "nbconvert_exporter": "python",
   "pygments_lexer": "ipython2",
   "version": "2.7.6"
  }
 },
 "nbformat": 4,
 "nbformat_minor": 0
}
