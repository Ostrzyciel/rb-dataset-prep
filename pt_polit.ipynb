{
 "cells": [
  {
   "cell_type": "code",
   "execution_count": 3,
   "metadata": {
    "collapsed": true,
    "ExecuteTime": {
     "start_time": "2023-05-01T11:37:29.902832Z",
     "end_time": "2023-05-01T11:37:30.612416Z"
    }
   },
   "outputs": [],
   "source": [
    "from pathlib import Path\n",
    "import rdflib\n",
    "import re"
   ]
  },
  {
   "cell_type": "code",
   "execution_count": 2,
   "outputs": [],
   "source": [
    "in_file = '/mnt/dane/work/rdf_streaming/euro/politiquices-2021-04-18-1238.ttl'\n",
    "out_dir = Path('../data/out/politiquices')"
   ],
   "metadata": {
    "collapsed": false,
    "ExecuteTime": {
     "start_time": "2023-05-01T11:36:25.047032Z",
     "end_time": "2023-05-01T11:36:25.063406Z"
    }
   }
  },
  {
   "cell_type": "code",
   "execution_count": 4,
   "outputs": [
    {
     "data": {
      "text/plain": "<Graph identifier=Nd166f3dd9d9541e3bae85384a6a50827 (<class 'rdflib.graph.Graph'>)>"
     },
     "execution_count": 4,
     "metadata": {},
     "output_type": "execute_result"
    }
   ],
   "source": [
    "g = rdflib.Graph()\n",
    "g.parse(in_file, format='ttl')"
   ],
   "metadata": {
    "collapsed": false,
    "ExecuteTime": {
     "start_time": "2023-05-01T11:37:40.749938Z",
     "end_time": "2023-05-01T11:37:44.097478Z"
    }
   }
  },
  {
   "cell_type": "code",
   "execution_count": 9,
   "outputs": [
    {
     "name": "stdout",
     "output_type": "stream",
     "text": [
      "0\n",
      "1000\n",
      "2000\n",
      "3000\n",
      "4000\n",
      "5000\n",
      "6000\n",
      "7000\n",
      "8000\n",
      "9000\n",
      "10000\n",
      "11000\n",
      "12000\n",
      "13000\n",
      "14000\n",
      "15000\n",
      "16000\n",
      "17000\n"
     ]
    }
   ],
   "source": [
    "num = 0\n",
    "dir_levels = 1\n",
    "\n",
    "def save_item(graph: rdflib.Graph):\n",
    "    filename = f'{num:010}'\n",
    "    item_dir = out_dir\n",
    "    for d in range(-dir_levels, 0):\n",
    "        item_dir = Path(item_dir, filename[3 * (d - 1) : 3 * d])\n",
    "    item_dir.mkdir(parents=True, exist_ok=True)\n",
    "    with open(Path(item_dir, filename + '.ttl'), 'wb') as fp:\n",
    "        graph.serialize(fp, format='ttl')\n",
    "\n",
    "    if num % 1000 == 0:\n",
    "        print(num)\n",
    "\n",
    "for s in g.subjects(None, None, True):\n",
    "    if isinstance(s, rdflib.URIRef):\n",
    "        if s.startswith('http://www.wikidata.org'):\n",
    "            continue\n",
    "        g2 = rdflib.Graph()\n",
    "        for t in g.triples((s, None, None)):\n",
    "            g2.add(t)\n",
    "\n",
    "        s_related = g.subjects(None, s, unique=True)\n",
    "        for s2 in s_related:\n",
    "            for t in g.triples((s2, None, None)):\n",
    "                g2.add(t)\n",
    "\n",
    "        save_item(g2)\n",
    "        num += 1\n"
   ],
   "metadata": {
    "collapsed": false,
    "ExecuteTime": {
     "start_time": "2023-05-01T11:58:59.932788Z",
     "end_time": "2023-05-01T11:59:05.878798Z"
    }
   }
  }
 ],
 "metadata": {
  "kernelspec": {
   "display_name": "Python 3",
   "language": "python",
   "name": "python3"
  },
  "language_info": {
   "codemirror_mode": {
    "name": "ipython",
    "version": 2
   },
   "file_extension": ".py",
   "mimetype": "text/x-python",
   "name": "python",
   "nbconvert_exporter": "python",
   "pygments_lexer": "ipython2",
   "version": "2.7.6"
  }
 },
 "nbformat": 4,
 "nbformat_minor": 0
}
