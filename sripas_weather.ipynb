{
 "cells": [
  {
   "cell_type": "code",
   "execution_count": 1,
   "metadata": {
    "collapsed": true,
    "ExecuteTime": {
     "start_time": "2023-05-04T21:27:31.394757Z",
     "end_time": "2023-05-04T21:27:31.396457Z"
    }
   },
   "outputs": [],
   "source": [
    "import gzip\n",
    "import json\n",
    "from pathlib import Path\n",
    "import urllib.parse"
   ]
  },
  {
   "cell_type": "code",
   "execution_count": 2,
   "outputs": [],
   "source": [
    "in_file_1 = '/mnt/dane/work/rdf_streaming/sripas_weather/weather.json.gz'\n",
    "in_file_2 = '/mnt/dane/work/rdf_streaming/sripas_weather/data.json.gz'\n",
    "out_dir_triples = Path('../data/out/sripas-weather-triples')\n",
    "out_dir_graphs = Path('../data/out/sripas-weather-graphs')"
   ],
   "metadata": {
    "collapsed": false,
    "ExecuteTime": {
     "start_time": "2023-05-04T21:27:31.395442Z",
     "end_time": "2023-05-04T21:27:31.397717Z"
    }
   }
  },
  {
   "cell_type": "code",
   "execution_count": 4,
   "outputs": [
    {
     "name": "stdout",
     "output_type": "stream",
     "text": [
      "0\n",
      "10000\n",
      "20000\n",
      "30000\n",
      "40000\n",
      "50000\n",
      "60000\n",
      "70000\n",
      "80000\n",
      "90000\n",
      "100000\n",
      "110000\n",
      "120000\n",
      "130000\n",
      "140000\n",
      "150000\n",
      "160000\n",
      "170000\n",
      "180000\n",
      "190000\n",
      "200000\n",
      "210000\n",
      "220000\n",
      "230000\n",
      "240000\n",
      "250000\n",
      "260000\n",
      "270000\n",
      "280000\n",
      "290000\n",
      "300000\n",
      "310000\n",
      "320000\n",
      "330000\n",
      "340000\n",
      "350000\n",
      "360000\n",
      "370000\n",
      "380000\n",
      "390000\n",
      "400000\n",
      "410000\n",
      "420000\n",
      "430000\n",
      "440000\n",
      "450000\n",
      "460000\n",
      "470000\n",
      "480000\n",
      "490000\n",
      "500000\n",
      "510000\n",
      "520000\n",
      "530000\n",
      "540000\n",
      "550000\n",
      "560000\n",
      "570000\n",
      "580000\n",
      "590000\n",
      "600000\n",
      "610000\n",
      "620000\n",
      "630000\n",
      "640000\n",
      "650000\n",
      "660000\n",
      "670000\n",
      "680000\n",
      "690000\n",
      "700000\n"
     ]
    }
   ],
   "source": [
    "num = 0\n",
    "dir_levels = 1\n",
    "\n",
    "with open('rml/template.trig') as fp_template:\n",
    "    template_graphs = fp_template.read()\n",
    "\n",
    "with open('rml/template.ttl') as fp_template:\n",
    "    template_triples = fp_template.read()\n",
    "\n",
    "def substitute(template: str, d: dict) -> str:\n",
    "    return template\\\n",
    "        .replace(\"{ts}\", d['timestamp'])\\\n",
    "        .replace(\"{ts_escaped}\", urllib.parse.quote(d['timestamp']))\\\n",
    "        .replace(\"{humidity}\", str(d['hum_out']))\\\n",
    "        .replace(\"{pressure}\", str(d['barometer']))\\\n",
    "        .replace(\"{rain}\", str(d['rain_rate']))\\\n",
    "        .replace(\"{sun}\", str(d['solar_radiation']))\\\n",
    "        .replace(\"{uv}\", str(d['uv']))\\\n",
    "        .replace(\"{temp}\", str(d['temp_out']))\\\n",
    "        .replace(\"{wind_dir}\", str(d['wind_direction']))\\\n",
    "        .replace(\"{wind_speed}\", str(d['wind_speed']))\\\n",
    "        .replace(\"{wind_speed_avg}\", str(d['wind_speed_10_min_avg']))\n",
    "\n",
    "def do_file(data: dict):\n",
    "    global num\n",
    "    filename = f'{num:010}'\n",
    "    item_dir_graphs = out_dir_graphs\n",
    "    item_dir_triples = out_dir_triples\n",
    "    for d in range(-dir_levels, 0):\n",
    "        item_dir_graphs = Path(item_dir_graphs, filename[3 * (d - 1) : 3 * d])\n",
    "        item_dir_triples = Path(item_dir_triples, filename[3 * (d - 1) : 3 * d])\n",
    "    item_dir_graphs.mkdir(parents=True, exist_ok=True)\n",
    "    item_dir_triples.mkdir(parents=True, exist_ok=True)\n",
    "\n",
    "    buf_graphs = substitute(template_graphs, data)\n",
    "    buf_triples = substitute(template_triples, data)\n",
    "\n",
    "    with open(Path(item_dir_graphs, filename + '.trig'), 'wt') as fp:\n",
    "        fp.write(buf_graphs)\n",
    "    with open(Path(item_dir_triples, filename + '.ttl'), 'wt') as fp:\n",
    "        fp.write(buf_triples)\n",
    "\n",
    "    if num % 10000 == 0:\n",
    "        print(num)\n",
    "    num += 1\n",
    "\n",
    "with gzip.open(in_file_1, 'rt') as f:\n",
    "    for line in f:\n",
    "        do_file(json.loads(line))\n",
    "\n",
    "with gzip.open(in_file_2, 'rt') as f:\n",
    "    buffer = ''\n",
    "    for line in f:\n",
    "        buffer += line\n",
    "        if line.startswith('}'):\n",
    "            data = json.loads(buffer)['payload']\n",
    "            do_file(data)\n",
    "            buffer = ''\n"
   ],
   "metadata": {
    "collapsed": false,
    "ExecuteTime": {
     "start_time": "2023-05-04T21:38:02.391133Z",
     "end_time": "2023-05-04T21:39:45.797196Z"
    }
   }
  }
 ],
 "metadata": {
  "kernelspec": {
   "display_name": "Python 3",
   "language": "python",
   "name": "python3"
  },
  "language_info": {
   "codemirror_mode": {
    "name": "ipython",
    "version": 2
   },
   "file_extension": ".py",
   "mimetype": "text/x-python",
   "name": "python",
   "nbconvert_exporter": "python",
   "pygments_lexer": "ipython2",
   "version": "2.7.6"
  }
 },
 "nbformat": 4,
 "nbformat_minor": 0
}
