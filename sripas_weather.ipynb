{
 "cells": [
  {
   "cell_type": "code",
   "execution_count": 19,
   "metadata": {
    "collapsed": true,
    "ExecuteTime": {
     "start_time": "2023-04-30T18:14:26.266649Z",
     "end_time": "2023-04-30T18:14:26.268695Z"
    }
   },
   "outputs": [],
   "source": [
    "import gzip\n",
    "import json\n",
    "from pathlib import Path\n",
    "import rdflib\n",
    "import subprocess"
   ]
  },
  {
   "cell_type": "code",
   "execution_count": 4,
   "outputs": [],
   "source": [
    "in_file_1 = '/mnt/dane/work/rdf_streaming/sripas_weather/weather.json.gz'\n",
    "in_file_2 = '/mnt/dane/work/rdf_streaming/sripas_weather/data.json.gz'\n",
    "out_dir = Path('../data/out/sripas-weather')"
   ],
   "metadata": {
    "collapsed": false,
    "ExecuteTime": {
     "start_time": "2023-04-30T12:57:33.769688Z",
     "end_time": "2023-04-30T12:57:33.811592Z"
    }
   }
  },
  {
   "cell_type": "code",
   "execution_count": 23,
   "outputs": [
    {
     "name": "stderr",
     "output_type": "stream",
     "text": [
      "18:16:52.206 [main] ERROR be.ugent.rml.cli.Main               .run(298) - Failed to make mapping file conformant to RML spec.\n",
      "java.lang.Exception: Mapping requires at least one TriplesMap\n",
      "\tat be.ugent.rml.conformer.MappingConformer.detect(MappingConformer.java:80)\n",
      "\tat be.ugent.rml.conformer.MappingConformer.conform(MappingConformer.java:55)\n",
      "\tat be.ugent.rml.cli.Main.run(Main.java:292)\n",
      "\tat be.ugent.rml.cli.Main.main(Main.java:46)\n",
      "Exception in thread \"main\" java.lang.Error: No Triples Maps found. The mapping document you should at least have one Triples Map.\n",
      "\tat be.ugent.rml.Initializer.getAllTriplesMaps(Initializer.java:59)\n",
      "\tat be.ugent.rml.Initializer.<init>(Initializer.java:23)\n",
      "\tat be.ugent.rml.Executor.<init>(Executor.java:52)\n",
      "\tat be.ugent.rml.cli.Main.run(Main.java:390)\n",
      "\tat be.ugent.rml.cli.Main.main(Main.java:46)\n"
     ]
    },
    {
     "ename": "AttributeError",
     "evalue": "'NoneType' object has no attribute 'decode'",
     "output_type": "error",
     "traceback": [
      "\u001B[0;31m---------------------------------------------------------------------------\u001B[0m",
      "\u001B[0;31mAttributeError\u001B[0m                            Traceback (most recent call last)",
      "Cell \u001B[0;32mIn[23], line 17\u001B[0m\n\u001B[1;32m     15\u001B[0m \u001B[38;5;28;01mwith\u001B[39;00m gzip\u001B[38;5;241m.\u001B[39mopen(in_file_1, \u001B[38;5;124m'\u001B[39m\u001B[38;5;124mrt\u001B[39m\u001B[38;5;124m'\u001B[39m) \u001B[38;5;28;01mas\u001B[39;00m f:\n\u001B[1;32m     16\u001B[0m     \u001B[38;5;28;01mfor\u001B[39;00m line \u001B[38;5;129;01min\u001B[39;00m f:\n\u001B[0;32m---> 17\u001B[0m         \u001B[43mdo_file\u001B[49m\u001B[43m(\u001B[49m\u001B[43mline\u001B[49m\u001B[43m)\u001B[49m\n\u001B[1;32m     18\u001B[0m         \u001B[38;5;28;01mbreak\u001B[39;00m\n\u001B[1;32m     20\u001B[0m \u001B[38;5;28;01mwith\u001B[39;00m gzip\u001B[38;5;241m.\u001B[39mopen(in_file_2, \u001B[38;5;124m'\u001B[39m\u001B[38;5;124mrt\u001B[39m\u001B[38;5;124m'\u001B[39m) \u001B[38;5;28;01mas\u001B[39;00m f:\n",
      "Cell \u001B[0;32mIn[23], line 9\u001B[0m, in \u001B[0;36mdo_file\u001B[0;34m(buf)\u001B[0m\n\u001B[1;32m      7\u001B[0m s_res \u001B[38;5;241m=\u001B[39m subprocess\u001B[38;5;241m.\u001B[39mrun([\u001B[38;5;124m'\u001B[39m\u001B[38;5;124mjava\u001B[39m\u001B[38;5;124m'\u001B[39m, \u001B[38;5;124m'\u001B[39m\u001B[38;5;124m-jar\u001B[39m\u001B[38;5;124m'\u001B[39m, \u001B[38;5;124m'\u001B[39m\u001B[38;5;124mbin/mapper.jar\u001B[39m\u001B[38;5;124m'\u001B[39m])\n\u001B[1;32m      8\u001B[0m \u001B[38;5;28;01mif\u001B[39;00m s_res\u001B[38;5;241m.\u001B[39mreturncode \u001B[38;5;241m!=\u001B[39m \u001B[38;5;241m0\u001B[39m:\n\u001B[0;32m----> 9\u001B[0m     \u001B[38;5;28mprint\u001B[39m(\u001B[43ms_res\u001B[49m\u001B[38;5;241;43m.\u001B[39;49m\u001B[43mstderr\u001B[49m\u001B[38;5;241;43m.\u001B[39;49m\u001B[43mdecode\u001B[49m(\u001B[38;5;124m'\u001B[39m\u001B[38;5;124mutf-8\u001B[39m\u001B[38;5;124m'\u001B[39m))\n\u001B[1;32m     10\u001B[0m     \u001B[38;5;28;01mreturn\u001B[39;00m\n\u001B[1;32m     11\u001B[0m g \u001B[38;5;241m=\u001B[39m rdflib\u001B[38;5;241m.\u001B[39mGraph()\n",
      "\u001B[0;31mAttributeError\u001B[0m: 'NoneType' object has no attribute 'decode'"
     ]
    }
   ],
   "source": [
    "num = 0\n",
    "dir_levels = 1\n",
    "\n",
    "def do_file(buf: str):\n",
    "    with open('temp/data.json', 'wt') as fp:\n",
    "        fp.write(buf)\n",
    "    s_res = subprocess.run(['java', '-jar', 'bin/mapper.jar'])\n",
    "    if s_res.returncode != 0:\n",
    "        print(s_res.stderr.decode('utf-8'))\n",
    "        return\n",
    "    g = rdflib.Graph()\n",
    "    g.parse(data=s_res.stdout.decode('utf-8'))\n",
    "\n",
    "\n",
    "with gzip.open(in_file_1, 'rt') as f:\n",
    "    for line in f:\n",
    "        do_file(line)\n",
    "        break\n",
    "\n",
    "with gzip.open(in_file_2, 'rt') as f:\n",
    "    buffer = ''\n",
    "    for line in f:\n",
    "        buffer += line\n",
    "        if line.startswith('}'):\n",
    "            data = json.loads(buffer)['payload']\n",
    "            do_file(json.dumps(data))\n",
    "            buffer = ''\n",
    "            break"
   ],
   "metadata": {
    "collapsed": false,
    "ExecuteTime": {
     "start_time": "2023-04-30T18:09:34.630883Z",
     "end_time": "2023-04-30T18:09:34.633715Z"
    }
   }
  }
 ],
 "metadata": {
  "kernelspec": {
   "display_name": "Python 3",
   "language": "python",
   "name": "python3"
  },
  "language_info": {
   "codemirror_mode": {
    "name": "ipython",
    "version": 2
   },
   "file_extension": ".py",
   "mimetype": "text/x-python",
   "name": "python",
   "nbconvert_exporter": "python",
   "pygments_lexer": "ipython2",
   "version": "2.7.6"
  }
 },
 "nbformat": 4,
 "nbformat_minor": 0
}
