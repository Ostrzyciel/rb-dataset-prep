{
 "cells": [
  {
   "cell_type": "code",
   "execution_count": 2,
   "metadata": {
    "collapsed": true,
    "ExecuteTime": {
     "start_time": "2023-05-01T21:58:12.331154Z",
     "end_time": "2023-05-01T21:58:12.367243Z"
    }
   },
   "outputs": [],
   "source": [
    "import rdflib\n",
    "from pathlib import Path\n",
    "import os\n",
    "import re"
   ]
  },
  {
   "cell_type": "code",
   "execution_count": 3,
   "outputs": [],
   "source": [
    "in_dir = Path('../data/out/citypulse')\n",
    "out_dir = Path('../data/out/citypulse-graphs')"
   ],
   "metadata": {
    "collapsed": false,
    "ExecuteTime": {
     "start_time": "2023-05-01T21:58:13.701441Z",
     "end_time": "2023-05-01T21:58:13.706326Z"
    }
   }
  },
  {
   "cell_type": "code",
   "execution_count": 11,
   "outputs": [
    {
     "name": "stdout",
     "output_type": "stream",
     "text": [
      "0000000000\n"
     ]
    },
    {
     "ename": "KeyboardInterrupt",
     "evalue": "",
     "output_type": "error",
     "traceback": [
      "\u001B[0;31m---------------------------------------------------------------------------\u001B[0m",
      "\u001B[0;31mKeyboardInterrupt\u001B[0m                         Traceback (most recent call last)",
      "Cell \u001B[0;32mIn[11], line 8\u001B[0m\n\u001B[1;32m      6\u001B[0m \u001B[38;5;28;01mfor\u001B[39;00m f \u001B[38;5;129;01min\u001B[39;00m \u001B[38;5;28msorted\u001B[39m(os\u001B[38;5;241m.\u001B[39mlistdir(in_dir \u001B[38;5;241m/\u001B[39m d1 \u001B[38;5;241m/\u001B[39m d2)):\n\u001B[1;32m      7\u001B[0m     \u001B[38;5;28;01mif\u001B[39;00m f\u001B[38;5;241m.\u001B[39mendswith(\u001B[38;5;124m'\u001B[39m\u001B[38;5;124m.ttl\u001B[39m\u001B[38;5;124m'\u001B[39m):\n\u001B[0;32m----> 8\u001B[0m         out_path \u001B[38;5;241m=\u001B[39m (\u001B[43mout_dir\u001B[49m\u001B[43m \u001B[49m\u001B[38;5;241;43m/\u001B[39;49m\u001B[43m \u001B[49m\u001B[43md1\u001B[49m\u001B[43m \u001B[49m\u001B[38;5;241;43m/\u001B[39;49m\u001B[43m \u001B[49m\u001B[43md2\u001B[49m\u001B[43m \u001B[49m\u001B[38;5;241;43m/\u001B[39;49m\u001B[43m \u001B[49m\u001B[43m(\u001B[49m\u001B[43mf\u001B[49m\u001B[43m[\u001B[49m\u001B[43m:\u001B[49m\u001B[38;5;241;43m-\u001B[39;49m\u001B[38;5;241;43m4\u001B[39;49m\u001B[43m]\u001B[49m\u001B[43m \u001B[49m\u001B[38;5;241;43m+\u001B[39;49m\u001B[43m \u001B[49m\u001B[38;5;124;43m'\u001B[39;49m\u001B[38;5;124;43m.trig\u001B[39;49m\u001B[38;5;124;43m'\u001B[39;49m\u001B[43m)\u001B[49m)\n\u001B[1;32m      9\u001B[0m         \u001B[38;5;28;01mif\u001B[39;00m out_path\u001B[38;5;241m.\u001B[39mexists():\n\u001B[1;32m     10\u001B[0m             \u001B[38;5;28;01mcontinue\u001B[39;00m\n",
      "File \u001B[0;32m/usr/lib/python3.11/pathlib.py:768\u001B[0m, in \u001B[0;36mPurePath.__truediv__\u001B[0;34m(self, key)\u001B[0m\n\u001B[1;32m    766\u001B[0m \u001B[38;5;28;01mdef\u001B[39;00m \u001B[38;5;21m__truediv__\u001B[39m(\u001B[38;5;28mself\u001B[39m, key):\n\u001B[1;32m    767\u001B[0m     \u001B[38;5;28;01mtry\u001B[39;00m:\n\u001B[0;32m--> 768\u001B[0m         \u001B[38;5;28;01mreturn\u001B[39;00m \u001B[38;5;28;43mself\u001B[39;49m\u001B[38;5;241;43m.\u001B[39;49m\u001B[43m_make_child\u001B[49m\u001B[43m(\u001B[49m\u001B[43m(\u001B[49m\u001B[43mkey\u001B[49m\u001B[43m,\u001B[49m\u001B[43m)\u001B[49m\u001B[43m)\u001B[49m\n\u001B[1;32m    769\u001B[0m     \u001B[38;5;28;01mexcept\u001B[39;00m \u001B[38;5;167;01mTypeError\u001B[39;00m:\n\u001B[1;32m    770\u001B[0m         \u001B[38;5;28;01mreturn\u001B[39;00m \u001B[38;5;28mNotImplemented\u001B[39m\n",
      "File \u001B[0;32m/usr/lib/python3.11/pathlib.py:532\u001B[0m, in \u001B[0;36mPurePath._make_child\u001B[0;34m(self, args)\u001B[0m\n\u001B[1;32m    531\u001B[0m \u001B[38;5;28;01mdef\u001B[39;00m \u001B[38;5;21m_make_child\u001B[39m(\u001B[38;5;28mself\u001B[39m, args):\n\u001B[0;32m--> 532\u001B[0m     drv, root, parts \u001B[38;5;241m=\u001B[39m \u001B[38;5;28;43mself\u001B[39;49m\u001B[38;5;241;43m.\u001B[39;49m\u001B[43m_parse_args\u001B[49m\u001B[43m(\u001B[49m\u001B[43margs\u001B[49m\u001B[43m)\u001B[49m\n\u001B[1;32m    533\u001B[0m     drv, root, parts \u001B[38;5;241m=\u001B[39m \u001B[38;5;28mself\u001B[39m\u001B[38;5;241m.\u001B[39m_flavour\u001B[38;5;241m.\u001B[39mjoin_parsed_parts(\n\u001B[1;32m    534\u001B[0m         \u001B[38;5;28mself\u001B[39m\u001B[38;5;241m.\u001B[39m_drv, \u001B[38;5;28mself\u001B[39m\u001B[38;5;241m.\u001B[39m_root, \u001B[38;5;28mself\u001B[39m\u001B[38;5;241m.\u001B[39m_parts, drv, root, parts)\n\u001B[1;32m    535\u001B[0m     \u001B[38;5;28;01mreturn\u001B[39;00m \u001B[38;5;28mself\u001B[39m\u001B[38;5;241m.\u001B[39m_from_parsed_parts(drv, root, parts)\n",
      "File \u001B[0;32m/usr/lib/python3.11/pathlib.py:503\u001B[0m, in \u001B[0;36mPurePath._parse_args\u001B[0;34m(cls, args)\u001B[0m\n\u001B[1;32m    498\u001B[0m         \u001B[38;5;28;01melse\u001B[39;00m:\n\u001B[1;32m    499\u001B[0m             \u001B[38;5;28;01mraise\u001B[39;00m \u001B[38;5;167;01mTypeError\u001B[39;00m(\n\u001B[1;32m    500\u001B[0m                 \u001B[38;5;124m\"\u001B[39m\u001B[38;5;124margument should be a str object or an os.PathLike \u001B[39m\u001B[38;5;124m\"\u001B[39m\n\u001B[1;32m    501\u001B[0m                 \u001B[38;5;124m\"\u001B[39m\u001B[38;5;124mobject returning str, not \u001B[39m\u001B[38;5;132;01m%r\u001B[39;00m\u001B[38;5;124m\"\u001B[39m\n\u001B[1;32m    502\u001B[0m                 \u001B[38;5;241m%\u001B[39m \u001B[38;5;28mtype\u001B[39m(a))\n\u001B[0;32m--> 503\u001B[0m \u001B[38;5;28;01mreturn\u001B[39;00m \u001B[38;5;28;43mcls\u001B[39;49m\u001B[38;5;241;43m.\u001B[39;49m\u001B[43m_flavour\u001B[49m\u001B[38;5;241;43m.\u001B[39;49m\u001B[43mparse_parts\u001B[49m\u001B[43m(\u001B[49m\u001B[43mparts\u001B[49m\u001B[43m)\u001B[49m\n",
      "File \u001B[0;32m/usr/lib/python3.11/pathlib.py:73\u001B[0m, in \u001B[0;36m_Flavour.parse_parts\u001B[0;34m(self, parts)\u001B[0m\n\u001B[1;32m     71\u001B[0m \u001B[38;5;28;01melse\u001B[39;00m:\n\u001B[1;32m     72\u001B[0m     \u001B[38;5;28;01mif\u001B[39;00m rel \u001B[38;5;129;01mand\u001B[39;00m rel \u001B[38;5;241m!=\u001B[39m \u001B[38;5;124m'\u001B[39m\u001B[38;5;124m.\u001B[39m\u001B[38;5;124m'\u001B[39m:\n\u001B[0;32m---> 73\u001B[0m         parsed\u001B[38;5;241m.\u001B[39mappend(sys\u001B[38;5;241m.\u001B[39mintern(rel))\n\u001B[1;32m     74\u001B[0m \u001B[38;5;28;01mif\u001B[39;00m drv \u001B[38;5;129;01mor\u001B[39;00m root:\n\u001B[1;32m     75\u001B[0m     \u001B[38;5;28;01mif\u001B[39;00m \u001B[38;5;129;01mnot\u001B[39;00m drv:\n\u001B[1;32m     76\u001B[0m         \u001B[38;5;66;03m# If no drive is present, try to find one in the previous\u001B[39;00m\n\u001B[1;32m     77\u001B[0m         \u001B[38;5;66;03m# parts. This makes the result of parsing e.g.\u001B[39;00m\n\u001B[1;32m     78\u001B[0m         \u001B[38;5;66;03m# (\"C:\", \"/\", \"a\") reasonably intuitive.\u001B[39;00m\n",
      "\u001B[0;31mKeyboardInterrupt\u001B[0m: "
     ]
    }
   ],
   "source": [
    "at = rdflib.URIRef('http://purl.org/NET/c4dm/timeline.owl#at')\n",
    "g_prefix = 'http://iot.ee.surrey.ac.uk/citypulse/datasets/traffic/traffic_oct_nov/graphs/'\n",
    "rdflib_bug_rx = re.compile(r'^.*<urn:x-rdflib:>.*$')\n",
    "\n",
    "for d1 in sorted(os.listdir(in_dir)):\n",
    "    for d2 in sorted(os.listdir(in_dir / d1)):\n",
    "        for f in sorted(os.listdir(in_dir / d1 / d2)):\n",
    "            if f.endswith('.ttl'):\n",
    "                out_path = (out_dir / d1 / d2 / (f[:-4] + '.trig'))\n",
    "                if out_path.exists():\n",
    "                    continue\n",
    "                g = rdflib.Graph()\n",
    "                g.parse(in_dir / d1 / d2 / f, format='turtle')\n",
    "                g_node = rdflib.URIRef(g_prefix + f[:-4])\n",
    "                time = list(g.objects(None, at))[0]\n",
    "                d = rdflib.Dataset()\n",
    "                for t in g.triples((None, None, None)):\n",
    "                    d.add((t[0], t[1], t[2], g_node))\n",
    "\n",
    "                d.add((g_node, at, time))\n",
    "                (out_dir / d1 / d2).mkdir(parents=True, exist_ok=True)\n",
    "                serialized = d.serialize(format='trig')\n",
    "                # workaround for rdflib bug\n",
    "                serialized = rdflib_bug_rx.sub('', serialized)\n",
    "                with open(out_path, 'w') as fp:\n",
    "                    fp.write(serialized)\n",
    "\n",
    "            if int(f[:-4]) % 10_000 == 0:\n",
    "                print(f[:-4])"
   ],
   "metadata": {
    "collapsed": false,
    "ExecuteTime": {
     "start_time": "2023-05-01T21:59:26.332838Z",
     "end_time": "2023-05-01T22:37:37.035112Z"
    }
   }
  }
 ],
 "metadata": {
  "kernelspec": {
   "display_name": "Python 3",
   "language": "python",
   "name": "python3"
  },
  "language_info": {
   "codemirror_mode": {
    "name": "ipython",
    "version": 2
   },
   "file_extension": ".py",
   "mimetype": "text/x-python",
   "name": "python",
   "nbconvert_exporter": "python",
   "pygments_lexer": "ipython2",
   "version": "2.7.6"
  }
 },
 "nbformat": 4,
 "nbformat_minor": 0
}
