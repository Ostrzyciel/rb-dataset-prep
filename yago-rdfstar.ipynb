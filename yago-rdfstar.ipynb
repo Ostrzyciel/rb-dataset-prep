{
 "cells": [
  {
   "cell_type": "code",
   "execution_count": 1,
   "metadata": {
    "collapsed": true,
    "ExecuteTime": {
     "start_time": "2023-04-30T18:25:31.683440Z",
     "end_time": "2023-04-30T18:25:31.683604Z"
    }
   },
   "outputs": [],
   "source": [
    "import gzip\n",
    "from pathlib import Path\n",
    "import re"
   ]
  },
  {
   "cell_type": "code",
   "execution_count": 3,
   "outputs": [],
   "source": [
    "in_file = '/mnt/dane/work/rdf_streaming/yago-wd-annotated-facts.ntx.gz'\n",
    "out_dir = Path('../data/out/yago-wd-annotated-facts')"
   ],
   "metadata": {
    "collapsed": false,
    "ExecuteTime": {
     "start_time": "2023-04-30T18:25:41.710565Z",
     "end_time": "2023-04-30T18:25:41.714135Z"
    }
   }
  },
  {
   "cell_type": "code",
   "execution_count": 9,
   "outputs": [
    {
     "name": "stdout",
     "output_type": "stream",
     "text": [
      "0\n",
      "10000\n",
      "20000\n",
      "30000\n",
      "40000\n",
      "50000\n",
      "60000\n",
      "70000\n",
      "80000\n",
      "90000\n",
      "100000\n",
      "110000\n",
      "120000\n",
      "130000\n",
      "140000\n",
      "150000\n",
      "160000\n",
      "170000\n",
      "180000\n",
      "190000\n",
      "200000\n",
      "210000\n",
      "220000\n",
      "230000\n",
      "240000\n",
      "250000\n",
      "260000\n",
      "270000\n",
      "280000\n",
      "290000\n",
      "300000\n",
      "310000\n",
      "320000\n",
      "330000\n",
      "340000\n",
      "350000\n",
      "360000\n",
      "370000\n",
      "380000\n",
      "390000\n",
      "400000\n",
      "410000\n",
      "420000\n",
      "430000\n",
      "440000\n",
      "450000\n",
      "460000\n",
      "470000\n",
      "480000\n",
      "490000\n",
      "500000\n",
      "510000\n",
      "520000\n",
      "530000\n",
      "540000\n",
      "550000\n",
      "560000\n",
      "570000\n",
      "580000\n",
      "590000\n",
      "600000\n",
      "610000\n"
     ]
    }
   ],
   "source": [
    "subject_rx = re.compile(r'^<<\\s*<(.+?)>.*$')\n",
    "buffer = ''\n",
    "num = 0\n",
    "subject = None\n",
    "\n",
    "dir_levels = 1\n",
    "\n",
    "def save_item():\n",
    "    filename = f'{num:010}'\n",
    "    item_dir = out_dir\n",
    "    for d in range(-dir_levels, 0):\n",
    "        item_dir = Path(item_dir, filename[3 * (d - 1) : 3 * d])\n",
    "    item_dir.mkdir(parents=True, exist_ok=True)\n",
    "    with open(Path(item_dir, filename + '.ttl'), 'w') as fp:\n",
    "        fp.write(buffer)\n",
    "\n",
    "    if num % 10000 == 0:\n",
    "        print(num)\n",
    "\n",
    "with gzip.open(in_file, 'rt') as f:\n",
    "    for line in f:\n",
    "        # Fix bad IRIs\n",
    "        line = line.replace(' ', '\\u2009')\n",
    "        m = subject_rx.match(line)\n",
    "        if not m:\n",
    "            print('No subject!')\n",
    "            print(line)\n",
    "            continue\n",
    "        new_subject = m.group(1)\n",
    "        if new_subject != subject:\n",
    "            if subject:\n",
    "                save_item()\n",
    "                buffer = ''\n",
    "                num += 1\n",
    "            subject = new_subject\n",
    "        buffer += line\n",
    "\n"
   ],
   "metadata": {
    "collapsed": false,
    "ExecuteTime": {
     "start_time": "2023-04-30T19:31:41.902993Z",
     "end_time": "2023-04-30T19:32:05.133095Z"
    }
   }
  }
 ],
 "metadata": {
  "kernelspec": {
   "display_name": "Python 3",
   "language": "python",
   "name": "python3"
  },
  "language_info": {
   "codemirror_mode": {
    "name": "ipython",
    "version": 2
   },
   "file_extension": ".py",
   "mimetype": "text/x-python",
   "name": "python",
   "nbconvert_exporter": "python",
   "pygments_lexer": "ipython2",
   "version": "2.7.6"
  }
 },
 "nbformat": 4,
 "nbformat_minor": 0
}
